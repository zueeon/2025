{
  "cells": [
    {
      "cell_type": "markdown",
      "metadata": {
        "id": "view-in-github",
        "colab_type": "text"
      },
      "source": [
        "<a href=\"https://colab.research.google.com/github/zueeon/2025/blob/main/Colab_0528%EA%B3%BC%EC%A0%9C%20%EC%B5%9C%EC%A2%85%EB%B3%B8.ipynb\" target=\"_parent\"><img src=\"https://colab.research.google.com/assets/colab-badge.svg\" alt=\"Open In Colab\"/></a>"
      ]
    },
    {
      "cell_type": "code",
      "source": [
        "import pandas as pd\n",
        "from scipy.stats import shapiro, ttest_ind\n",
        "\n",
        "df = pd.read_csv('student_scores.csv')\n",
        "\n",
        "scores_female = df[df['gender'] == 0]['score']\n",
        "scores_male = df[df['gender'] == 1]['score']\n",
        "\n",
        "print(\"=== Shapiro-Wilk Normality Test ===\")\n",
        "stat_f, p_f = shapiro(scores_female)\n",
        "stat_m, p_m = shapiro(scores_male)\n",
        "print(f\"여학생: statistic={stat_f:.3f}, p-value={p_f:.4f}\")\n",
        "print(f\"남학생: statistic={stat_m:.3f}, p-value={p_m:.4f}\")\n",
        "\n",
        "alpha = 0.05\n",
        "if p_f > alpha:\n",
        "    print(\"여학생 점수는 정규분포를 따른다고 볼 수 있습니다.\")\n",
        "else:\n",
        "    print(\"여학생 점수는 정규분포를 따른다고 볼 수 없습니다.\")\n",
        "\n",
        "if p_m > alpha:\n",
        "    print(\"남학생 점수는 정규분포를 따른다고 볼 수 있습니다.\")\n",
        "else:\n",
        "    print(\"남학생 점수는 정규분포를 따른다고 볼 수 없습니다.\")\n",
        "\n",
        "print(\"\\n=== Unpaired Student's t-test ===\")\n",
        "t_stat, p_val = ttest_ind(scores_female, scores_male, equal_var=False)\n",
        "print(f\"t-statistic={t_stat:.3f}, p-value={p_val:.4f}\")\n",
        "\n",
        "if p_val > alpha:\n",
        "    print(\"귀무가설 채택: 남학생과 여학생의 평균 점수에 차이가 없습니다.\")\n",
        "else:\n",
        "    print(\"귀무가설 기각: 남학생과 여학생의 평균 점수에 차이가 있습니다.\")\n"
      ],
      "metadata": {
        "id": "IXwwFCCppIfn",
        "outputId": "6e0880b9-7b18-4849-a9de-87692aed7329",
        "colab": {
          "base_uri": "https://localhost:8080/"
        }
      },
      "execution_count": 4,
      "outputs": [
        {
          "output_type": "stream",
          "name": "stdout",
          "text": [
            "=== Shapiro-Wilk Normality Test ===\n",
            "여학생: statistic=0.869, p-value=0.0113\n",
            "남학생: statistic=0.908, p-value=0.0578\n",
            "여학생 점수는 정규분포를 따른다고 볼 수 없습니다.\n",
            "남학생 점수는 정규분포를 따른다고 볼 수 있습니다.\n",
            "\n",
            "=== Unpaired Student's t-test ===\n",
            "t-statistic=0.550, p-value=0.5858\n",
            "귀무가설 채택: 남학생과 여학생의 평균 점수에 차이가 없습니다.\n"
          ]
        }
      ]
    },
    {
      "cell_type": "code",
      "source": [
        "import pandas as pd\n",
        "from scipy.stats import shapiro, ttest_ind\n",
        "\n",
        "df = pd.read_csv('student_scores.csv')\n",
        "\n",
        "scores_female = df[df['gender'] == 0]['score']\n",
        "scores_male = df[df['gender'] == 1]['score']\n",
        "\n",
        "stat_f, p_f = shapiro(scores_female)\n",
        "stat_m, p_m = shapiro(scores_male)\n",
        "\n",
        "print(\"=== Shapiro-Wilk Normality Test ===\")\n",
        "print(f\"여학생: statistic={stat_f:.3f}, p-value={p_f:.4f}\")\n",
        "print(f\"남학생: statistic={stat_m:.3f}, p-value={p_m:.4f}\")\n",
        "\n",
        "alpha = 0.05\n",
        "if p_f > alpha:\n",
        "    print(\"여학생 점수는 정규분포를 따른다고 볼 수 있습니다.\")\n",
        "else:\n",
        "    print(\"여학생 점수는 정규분포를 따른다고 볼 수 없습니다.\")\n",
        "\n",
        "if p_m > alpha:\n",
        "    print(\"남학생 점수는 정규분포를 따른다고 볼 수 있습니다.\")\n",
        "else:\n",
        "    print(\"남학생 점수는 정규분포를 따른다고 볼 수 없습니다.\")\n",
        "\n",
        "print(\"\\n=== Unpaired Student's t-test ===\")\n",
        "t_stat, p_val = ttest_ind(scores_female, scores_male, equal_var=False)\n",
        "print(f\"t-statistic={t_stat:.3f}, p-value={p_val:.4f}\")\n",
        "\n",
        "if p_val < alpha:\n",
        "    print(\"결론: p-value가 0.05보다 작으므로 귀무가설을 기각합니다. 남학생과 여학생의 평균 점수에 통계적으로 유의한 차이가 있습니다.\")\n",
        "else:\n",
        "    print(\"결론: p-value가 0.05보다 크므로 귀무가설을 기각할 수 없습니다. 남학생과 여학생의 평균 점수에 통계적으로 유의한 차이가 없습니다.\")\n"
      ],
      "metadata": {
        "id": "XTgJxtcwqvbu",
        "outputId": "52c46edf-7f26-43bf-c0c2-520397fd5d23",
        "colab": {
          "base_uri": "https://localhost:8080/"
        }
      },
      "execution_count": 5,
      "outputs": [
        {
          "output_type": "stream",
          "name": "stdout",
          "text": [
            "=== Shapiro-Wilk Normality Test ===\n",
            "여학생: statistic=0.869, p-value=0.0113\n",
            "남학생: statistic=0.908, p-value=0.0578\n",
            "여학생 점수는 정규분포를 따른다고 볼 수 없습니다.\n",
            "남학생 점수는 정규분포를 따른다고 볼 수 있습니다.\n",
            "\n",
            "=== Unpaired Student's t-test ===\n",
            "t-statistic=0.550, p-value=0.5858\n",
            "결론: p-value가 0.05보다 크므로 귀무가설을 기각할 수 없습니다. 남학생과 여학생의 평균 점수에 통계적으로 유의한 차이가 없습니다.\n"
          ]
        }
      ]
    }
  ],
  "metadata": {
    "colab": {
      "name": "Colab 시작하기",
      "provenance": [],
      "include_colab_link": true
    },
    "kernelspec": {
      "display_name": "Python 3",
      "name": "python3"
    }
  },
  "nbformat": 4,
  "nbformat_minor": 0
}