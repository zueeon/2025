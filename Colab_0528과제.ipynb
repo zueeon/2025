{
  "cells": [
    {
      "cell_type": "markdown",
      "metadata": {
        "id": "view-in-github",
        "colab_type": "text"
      },
      "source": [
        "<a href=\"https://colab.research.google.com/github/zueeon/2025/blob/main/Colab_0528%EA%B3%BC%EC%A0%9C.ipynb\" target=\"_parent\"><img src=\"https://colab.research.google.com/assets/colab-badge.svg\" alt=\"Open In Colab\"/></a>"
      ]
    },
    {
      "cell_type": "code",
      "source": [
        "import pandas as pd\n",
        "from scipy.stats import shapiro\n",
        "\n",
        "# 데이터 불러오기\n",
        "df = pd.read_csv('student_scores.csv')\n",
        "\n",
        "# 남학생, 여학생 점수 분리\n",
        "scores_female = df[df['gender'] == 0]['score']\n",
        "scores_male = df[df['gender'] == 1]['score']\n",
        "\n",
        "# 정규성 검정\n",
        "stat_f, p_f = shapiro(scores_female)\n",
        "stat_m, p_m = shapiro(scores_male)\n",
        "\n",
        "print(f\"여학생: statistic={stat_f:.3f}, p-value={p_f:.3f}\")\n",
        "print(f\"남학생: statistic={stat_m:.3f}, p-value={p_m:.3f}\")\n"
      ],
      "metadata": {
        "colab": {
          "base_uri": "https://localhost:8080/"
        },
        "id": "PDp75fBleEwD",
        "outputId": "9798d78b-febd-415a-c6f1-4abd7211c1d4"
      },
      "execution_count": 15,
      "outputs": [
        {
          "output_type": "stream",
          "name": "stdout",
          "text": [
            "여학생: statistic=0.869, p-value=0.011\n",
            "남학생: statistic=0.908, p-value=0.058\n"
          ]
        }
      ]
    },
    {
      "cell_type": "code",
      "source": [
        "from scipy.stats import ttest_ind\n",
        "\n",
        "t_stat, p_val = ttest_ind(scores_female, scores_male, equal_var=False)\n",
        "print(f\"t-statistic={t_stat:.3f}, p-value={p_val:.3f}\")\n"
      ],
      "metadata": {
        "colab": {
          "base_uri": "https://localhost:8080/"
        },
        "id": "pIQQyIeOeJzH",
        "outputId": "77a44fee-c666-4351-f012-7ead223d2c27"
      },
      "execution_count": 16,
      "outputs": [
        {
          "output_type": "stream",
          "name": "stdout",
          "text": [
            "t-statistic=0.550, p-value=0.586\n"
          ]
        }
      ]
    },
    {
      "cell_type": "code",
      "source": [
        "import pandas as pd\n",
        "from scipy.stats import shapiro, ttest_ind\n",
        "\n",
        "# 데이터 불러오기\n",
        "df = pd.read_csv('student_scores.csv')\n",
        "\n",
        "scores_female = df[df['gender'] == 0]['score']\n",
        "scores_male = df[df['gender'] == 1]['score']\n",
        "\n",
        "# Shapiro-Wilk Test\n",
        "stat_f, p_f = shapiro(scores_female)\n",
        "stat_m, p_m = shapiro(scores_male)\n",
        "print(f\"여학생: statistic={stat_f:.3f}, p-value={p_f:.3f}\")\n",
        "print(f\"남학생: statistic={stat_m:.3f}, p-value={p_m:.3f}\")\n",
        "\n",
        "# Unpaired Student's t-test\n",
        "t_stat, p_val = ttest_ind(scores_female, scores_male, equal_var=False)\n",
        "print(f\"t-statistic={t_stat:.3f}, p-value={p_val:.3f}\")\n"
      ],
      "metadata": {
        "colab": {
          "base_uri": "https://localhost:8080/"
        },
        "id": "MRmUU0eheL3v",
        "outputId": "97078e1b-00fd-498c-cad4-380a2be0a2be"
      },
      "execution_count": 17,
      "outputs": [
        {
          "output_type": "stream",
          "name": "stdout",
          "text": [
            "여학생: statistic=0.869, p-value=0.011\n",
            "남학생: statistic=0.908, p-value=0.058\n",
            "t-statistic=0.550, p-value=0.586\n"
          ]
        }
      ]
    }
  ],
  "metadata": {
    "colab": {
      "name": "Colab 시작하기",
      "provenance": [],
      "include_colab_link": true
    },
    "kernelspec": {
      "display_name": "Python 3",
      "name": "python3"
    }
  },
  "nbformat": 4,
  "nbformat_minor": 0
}