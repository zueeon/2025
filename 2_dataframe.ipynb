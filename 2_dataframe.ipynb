{
  "nbformat": 4,
  "nbformat_minor": 0,
  "metadata": {
    "colab": {
      "provenance": [],
      "include_colab_link": true
    },
    "kernelspec": {
      "name": "python3",
      "display_name": "Python 3"
    },
    "language_info": {
      "name": "python"
    }
  },
  "cells": [
    {
      "cell_type": "markdown",
      "metadata": {
        "id": "view-in-github",
        "colab_type": "text"
      },
      "source": [
        "<a href=\"https://colab.research.google.com/github/zueeon/2025/blob/main/2_dataframe.ipynb\" target=\"_parent\"><img src=\"https://colab.research.google.com/assets/colab-badge.svg\" alt=\"Open In Colab\"/></a>"
      ]
    },
    {
      "cell_type": "markdown",
      "source": [
        "👀 🐾 <font color = 'red'> **Data frame** </font>\n",
        "\n",
        "|Index Name/label | column 0| column 1 | column 2 | ...| column n |\n",
        "|:|-|-|-|-|-|\n",
        "|index 0 | data 0 | data 0 | data 0 | ... | data 0 |\n",
        "|index 1 | data 1 | data 1 | data 1 | ... | data 1 |\n",
        "|index 2 | data 2 | data 2 | data 2 | ... | data 2 |\n",
        "|index 3 | data 3 | data 3 | data 3 | ... | data 3 |\n",
        "| . | . | . | . | . | . |\n",
        "| . | . | . | . | . | . |\n",
        "| . | . | . | . | . | . |\n",
        "|index n | data n | data n | data n | ... | data n |\n",
        "|| series 0 | series 1 | series 2 | ... | series n |\n",
        "\n",
        ">\n",
        "\n",
        "- series : column vector\n",
        "- data frame: 2-plane vector or matrix\n",
        "\n",
        ">\n",
        "\n",
        "<font color = 'blue'>👀 🐾 **An example of data frame: Make an excel data!**\n",
        "\n",
        "Table on p.12 of the textbook\n",
        "\n",
        "|종목코드 | 회사이름| 액면가 | 총주식수 |\n",
        "|:|-|-|-|\n",
        "|005930 | 삼성전자 | 100원 | 5,970,000,000 |\n",
        "|017670 | SK텔레콤 | 500원 | 81,000,000 |\n",
        "|1005380 | 현대자동차 | 5000원 | 214,000,000 |\n",
        "\n"
      ],
      "metadata": {
        "id": "HhxjKRzMymn3"
      }
    },
    {
      "cell_type": "markdown",
      "source": [
        "# For your information!\n",
        "\n",
        "Google Colab comes with many general pre-installed Python libraries.\n",
        "\n",
        "* ✅ pandas - Data manipulation\n",
        "* ✅ numpy - Numerical computing\n",
        "* ✅ matplotlib - Data visualization\n",
        "* ✅ seaborn - Statistical data visualization\n",
        "* ✅ scipy - Scientific computing\n",
        "* ✅ sympy - Symbolic mathematics\n",
        "* ✅ networkx - Graph-based data analysis\n",
        "* ✅ datetime - Date and time handling\n",
        "* ✅ os - File and directory handling\n",
        "* ✅ sys - System-specific parameters"
      ],
      "metadata": {
        "id": "oLHirAXNo2Mh"
      }
    },
    {
      "cell_type": "code",
      "source": [
        "!pip list"
      ],
      "metadata": {
        "collapsed": true,
        "id": "E2m_myAKpRgv"
      },
      "execution_count": null,
      "outputs": []
    },
    {
      "cell_type": "code",
      "source": [
        "!pip list"
      ],
      "metadata": {
        "collapsed": true,
        "colab": {
          "base_uri": "https://localhost:8080/"
        },
        "id": "8AGxuwMFh5hL",
        "outputId": "ea823eb2-16e1-46f6-dd96-0b0eb715042e"
      },
      "execution_count": null,
      "outputs": [
        {
          "output_type": "stream",
          "name": "stdout",
          "text": [
            "Package                               Version\n",
            "------------------------------------- -------------------\n",
            "absl-py                               1.4.0\n",
            "accelerate                            1.7.0\n",
            "aiohappyeyeballs                      2.6.1\n",
            "aiohttp                               3.11.15\n",
            "aiosignal                             1.3.2\n",
            "alabaster                             1.0.0\n",
            "albucore                              0.0.24\n",
            "albumentations                        2.0.7\n",
            "ale-py                                0.11.0\n",
            "altair                                5.5.0\n",
            "annotated-types                       0.7.0\n",
            "antlr4-python3-runtime                4.9.3\n",
            "anyio                                 4.9.0\n",
            "argon2-cffi                           23.1.0\n",
            "argon2-cffi-bindings                  21.2.0\n",
            "array_record                          0.7.2\n",
            "arviz                                 0.21.0\n",
            "astropy                               7.1.0\n",
            "astropy-iers-data                     0.2025.5.19.0.38.36\n",
            "astunparse                            1.6.3\n",
            "atpublic                              5.1\n",
            "attrs                                 25.3.0\n",
            "audioread                             3.0.1\n",
            "autograd                              1.8.0\n",
            "babel                                 2.17.0\n",
            "backcall                              0.2.0\n",
            "backports.tarfile                     1.2.0\n",
            "beautifulsoup4                        4.13.4\n",
            "betterproto                           2.0.0b6\n",
            "bigframes                             2.4.0\n",
            "bigquery-magics                       0.9.0\n",
            "bleach                                6.2.0\n",
            "blinker                               1.9.0\n",
            "blis                                  1.3.0\n",
            "blobfile                              3.0.0\n",
            "blosc2                                3.3.3\n",
            "bokeh                                 3.7.3\n",
            "Bottleneck                            1.4.2\n",
            "bqplot                                0.12.45\n",
            "branca                                0.8.1\n",
            "build                                 1.2.2.post1\n",
            "CacheControl                          0.14.3\n",
            "cachetools                            5.5.2\n",
            "catalogue                             2.0.10\n",
            "certifi                               2025.4.26\n",
            "cffi                                  1.17.1\n",
            "chardet                               5.2.0\n",
            "charset-normalizer                    3.4.2\n",
            "chex                                  0.1.89\n",
            "clarabel                              0.10.0\n",
            "click                                 8.2.1\n",
            "cloudpathlib                          0.21.1\n",
            "cloudpickle                           3.1.1\n",
            "cmake                                 3.31.6\n",
            "cmdstanpy                             1.2.5\n",
            "colorcet                              3.1.0\n",
            "colorlover                            0.3.0\n",
            "colour                                0.1.5\n",
            "community                             1.0.0b1\n",
            "confection                            0.1.5\n",
            "cons                                  0.4.6\n",
            "contourpy                             1.3.2\n",
            "cramjam                               2.10.0\n",
            "cryptography                          43.0.3\n",
            "cuda-python                           12.6.2.post1\n",
            "cudf-cu12                             25.2.1\n",
            "cudf-polars-cu12                      25.2.2\n",
            "cufflinks                             0.17.3\n",
            "cuml-cu12                             25.2.1\n",
            "cupy-cuda12x                          13.3.0\n",
            "curl_cffi                             0.11.1\n",
            "cuvs-cu12                             25.2.1\n",
            "cvxopt                                1.3.2\n",
            "cvxpy                                 1.6.5\n",
            "cycler                                0.12.1\n",
            "cyipopt                               1.5.0\n",
            "cymem                                 2.0.11\n",
            "Cython                                3.0.12\n",
            "dask                                  2024.12.1\n",
            "dask-cuda                             25.2.0\n",
            "dask-cudf-cu12                        25.2.2\n",
            "dask-expr                             1.1.21\n",
            "dataproc-spark-connect                0.7.4\n",
            "datascience                           0.17.6\n",
            "datasets                              2.14.4\n",
            "db-dtypes                             1.4.3\n",
            "dbus-python                           1.2.18\n",
            "debugpy                               1.8.0\n",
            "decorator                             4.4.2\n",
            "defusedxml                            0.7.1\n",
            "diffusers                             0.33.1\n",
            "dill                                  0.3.7\n",
            "distributed                           2024.12.1\n",
            "distributed-ucxx-cu12                 0.42.0\n",
            "distro                                1.9.0\n",
            "dlib                                  19.24.6\n",
            "dm-tree                               0.1.9\n",
            "docker-pycreds                        0.4.0\n",
            "docstring_parser                      0.16\n",
            "docutils                              0.21.2\n",
            "dopamine_rl                           4.1.2\n",
            "duckdb                                1.2.2\n",
            "earthengine-api                       1.5.15\n",
            "easydict                              1.13\n",
            "editdistance                          0.8.1\n",
            "eerepr                                0.1.2\n",
            "einops                                0.8.1\n",
            "en_core_web_sm                        3.8.0\n",
            "entrypoints                           0.4\n",
            "et_xmlfile                            2.0.0\n",
            "etils                                 1.12.2\n",
            "etuples                               0.3.9\n",
            "Farama-Notifications                  0.0.4\n",
            "fastai                                2.7.19\n",
            "fastcore                              1.7.29\n",
            "fastdownload                          0.0.7\n",
            "fastjsonschema                        2.21.1\n",
            "fastprogress                          1.0.3\n",
            "fastrlock                             0.8.3\n",
            "filelock                              3.18.0\n",
            "firebase-admin                        6.8.0\n",
            "Flask                                 3.1.1\n",
            "flatbuffers                           25.2.10\n",
            "flax                                  0.10.6\n",
            "folium                                0.19.6\n",
            "fonttools                             4.58.0\n",
            "frozendict                            2.4.6\n",
            "frozenlist                            1.6.0\n",
            "fsspec                                2025.3.2\n",
            "future                                1.0.0\n",
            "gast                                  0.6.0\n",
            "gcsfs                                 2025.3.2\n",
            "GDAL                                  3.8.4\n",
            "gdown                                 5.2.0\n",
            "geemap                                0.35.3\n",
            "geocoder                              1.38.1\n",
            "geographiclib                         2.0\n",
            "geopandas                             1.0.1\n",
            "geopy                                 2.4.1\n",
            "gin-config                            0.5.0\n",
            "gitdb                                 4.0.12\n",
            "GitPython                             3.1.44\n",
            "glob2                                 0.7\n",
            "google                                2.0.3\n",
            "google-ai-generativelanguage          0.6.15\n",
            "google-api-core                       2.24.2\n",
            "google-api-python-client              2.169.0\n",
            "google-auth                           2.38.0\n",
            "google-auth-httplib2                  0.2.0\n",
            "google-auth-oauthlib                  1.2.2\n",
            "google-cloud-aiplatform               1.93.1\n",
            "google-cloud-bigquery                 3.33.0\n",
            "google-cloud-bigquery-connection      1.18.2\n",
            "google-cloud-bigquery-storage         2.31.0\n",
            "google-cloud-core                     2.4.3\n",
            "google-cloud-dataproc                 5.18.1\n",
            "google-cloud-datastore                2.21.0\n",
            "google-cloud-firestore                2.20.2\n",
            "google-cloud-functions                1.20.3\n",
            "google-cloud-iam                      2.19.0\n",
            "google-cloud-language                 2.17.1\n",
            "google-cloud-resource-manager         1.14.2\n",
            "google-cloud-spanner                  3.54.0\n",
            "google-cloud-storage                  2.19.0\n",
            "google-cloud-translate                3.20.2\n",
            "google-colab                          1.0.0\n",
            "google-crc32c                         1.7.1\n",
            "google-genai                          1.16.1\n",
            "google-generativeai                   0.8.5\n",
            "google-pasta                          0.2.0\n",
            "google-resumable-media                2.7.2\n",
            "googleapis-common-protos              1.70.0\n",
            "googledrivedownloader                 1.1.0\n",
            "graphviz                              0.20.3\n",
            "greenlet                              3.2.2\n",
            "grpc-google-iam-v1                    0.14.2\n",
            "grpc-interceptor                      0.15.4\n",
            "grpcio                                1.71.0\n",
            "grpcio-status                         1.71.0\n",
            "grpclib                               0.4.8\n",
            "gspread                               6.2.1\n",
            "gspread-dataframe                     4.0.0\n",
            "gym                                   0.25.2\n",
            "gym-notices                           0.0.8\n",
            "gymnasium                             1.1.1\n",
            "h11                                   0.16.0\n",
            "h2                                    4.2.0\n",
            "h5netcdf                              1.6.1\n",
            "h5py                                  3.13.0\n",
            "hdbscan                               0.8.40\n",
            "hf_transfer                           0.1.9\n",
            "highspy                               1.10.0\n",
            "holidays                              0.73\n",
            "holoviews                             1.20.2\n",
            "hpack                                 4.1.0\n",
            "html5lib                              1.1\n",
            "httpcore                              1.0.9\n",
            "httpimport                            1.4.1\n",
            "httplib2                              0.22.0\n",
            "httpx                                 0.28.1\n",
            "huggingface-hub                       0.31.4\n",
            "humanize                              4.12.3\n",
            "hyperframe                            6.1.0\n",
            "hyperopt                              0.2.7\n",
            "ibis-framework                        9.5.0\n",
            "idna                                  3.10\n",
            "imageio                               2.37.0\n",
            "imageio-ffmpeg                        0.6.0\n",
            "imagesize                             1.4.1\n",
            "imbalanced-learn                      0.13.0\n",
            "immutabledict                         4.2.1\n",
            "importlib_metadata                    8.7.0\n",
            "importlib_resources                   6.5.2\n",
            "imutils                               0.5.4\n",
            "inflect                               7.5.0\n",
            "iniconfig                             2.1.0\n",
            "intel-cmplr-lib-ur                    2025.1.1\n",
            "intel-openmp                          2025.1.1\n",
            "ipyevents                             2.0.2\n",
            "ipyfilechooser                        0.6.0\n",
            "ipykernel                             6.17.1\n",
            "ipyleaflet                            0.19.2\n",
            "ipyparallel                           8.8.0\n",
            "ipython                               7.34.0\n",
            "ipython-genutils                      0.2.0\n",
            "ipython-sql                           0.5.0\n",
            "ipytree                               0.2.2\n",
            "ipywidgets                            7.7.1\n",
            "itsdangerous                          2.2.0\n",
            "jaraco.classes                        3.4.0\n",
            "jaraco.context                        6.0.1\n",
            "jaraco.functools                      4.1.0\n",
            "jax                                   0.5.2\n",
            "jax-cuda12-pjrt                       0.5.1\n",
            "jax-cuda12-plugin                     0.5.1\n",
            "jaxlib                                0.5.1\n",
            "jeepney                               0.9.0\n",
            "jieba                                 0.42.1\n",
            "Jinja2                                3.1.6\n",
            "jiter                                 0.10.0\n",
            "joblib                                1.5.0\n",
            "jsonpatch                             1.33\n",
            "jsonpickle                            4.1.0\n",
            "jsonpointer                           3.0.0\n",
            "jsonschema                            4.23.0\n",
            "jsonschema-specifications             2025.4.1\n",
            "jupyter-client                        6.1.12\n",
            "jupyter-console                       6.1.0\n",
            "jupyter_core                          5.7.2\n",
            "jupyter_kernel_gateway                2.5.2\n",
            "jupyter-leaflet                       0.19.2\n",
            "jupyter-server                        1.16.0\n",
            "jupyterlab_pygments                   0.3.0\n",
            "jupyterlab_widgets                    3.0.15\n",
            "kaggle                                1.7.4.5\n",
            "kagglehub                             0.3.12\n",
            "keras                                 3.8.0\n",
            "keras-hub                             0.18.1\n",
            "keras-nlp                             0.18.1\n",
            "keyring                               25.6.0\n",
            "keyrings.google-artifactregistry-auth 1.1.2\n",
            "kiwisolver                            1.4.8\n",
            "langchain                             0.3.25\n",
            "langchain-core                        0.3.60\n",
            "langchain-text-splitters              0.3.8\n",
            "langcodes                             3.5.0\n",
            "langsmith                             0.3.42\n",
            "language_data                         1.3.0\n",
            "launchpadlib                          1.10.16\n",
            "lazr.restfulclient                    0.14.4\n",
            "lazr.uri                              1.0.6\n",
            "lazy_loader                           0.4\n",
            "libclang                              18.1.1\n",
            "libcudf-cu12                          25.2.1\n",
            "libcugraph-cu12                       25.2.0\n",
            "libcuml-cu12                          25.2.1\n",
            "libcuvs-cu12                          25.2.1\n",
            "libkvikio-cu12                        25.2.1\n",
            "libpysal                              4.13.0\n",
            "libraft-cu12                          25.2.0\n",
            "librosa                               0.11.0\n",
            "libucx-cu12                           1.18.1\n",
            "libucxx-cu12                          0.42.0\n",
            "lightgbm                              4.5.0\n",
            "linkify-it-py                         2.0.3\n",
            "llvmlite                              0.43.0\n",
            "locket                                1.0.0\n",
            "logical-unification                   0.4.6\n",
            "lxml                                  5.4.0\n",
            "Mako                                  1.1.3\n",
            "marisa-trie                           1.2.1\n",
            "Markdown                              3.8\n",
            "markdown-it-py                        3.0.0\n",
            "MarkupSafe                            3.0.2\n",
            "matplotlib                            3.10.0\n",
            "matplotlib-inline                     0.1.7\n",
            "matplotlib-venn                       1.1.2\n",
            "mdit-py-plugins                       0.4.2\n",
            "mdurl                                 0.1.2\n",
            "miniKanren                            1.0.3\n",
            "missingno                             0.5.2\n",
            "mistune                               3.1.3\n",
            "mizani                                0.13.5\n",
            "mkl                                   2025.0.1\n",
            "ml-dtypes                             0.4.1\n",
            "mlxtend                               0.23.4\n",
            "more-itertools                        10.7.0\n",
            "moviepy                               1.0.3\n",
            "mpmath                                1.3.0\n",
            "msgpack                               1.1.0\n",
            "multidict                             6.4.4\n",
            "multipledispatch                      1.0.0\n",
            "multiprocess                          0.70.15\n",
            "multitasking                          0.0.11\n",
            "murmurhash                            1.0.12\n",
            "music21                               9.3.0\n",
            "namex                                 0.0.9\n",
            "narwhals                              1.40.0\n",
            "natsort                               8.4.0\n",
            "nbclassic                             1.3.1\n",
            "nbclient                              0.10.2\n",
            "nbconvert                             7.16.6\n",
            "nbformat                              5.10.4\n",
            "ndindex                               1.10.0\n",
            "nest-asyncio                          1.6.0\n",
            "networkx                              3.4.2\n",
            "nibabel                               5.3.2\n",
            "nltk                                  3.9.1\n",
            "notebook                              6.5.7\n",
            "notebook_shim                         0.2.4\n",
            "numba                                 0.60.0\n",
            "numba-cuda                            0.2.0\n",
            "numexpr                               2.10.2\n",
            "numpy                                 2.0.2\n",
            "nvidia-cublas-cu12                    12.5.3.2\n",
            "nvidia-cuda-cupti-cu12                12.5.82\n",
            "nvidia-cuda-nvcc-cu12                 12.5.82\n",
            "nvidia-cuda-nvrtc-cu12                12.5.82\n",
            "nvidia-cuda-runtime-cu12              12.5.82\n",
            "nvidia-cudnn-cu12                     9.3.0.75\n",
            "nvidia-cufft-cu12                     11.2.3.61\n",
            "nvidia-curand-cu12                    10.3.6.82\n",
            "nvidia-cusolver-cu12                  11.6.3.83\n",
            "nvidia-cusparse-cu12                  12.5.1.3\n",
            "nvidia-cusparselt-cu12                0.6.2\n",
            "nvidia-ml-py                          12.575.51\n",
            "nvidia-nccl-cu12                      2.21.5\n",
            "nvidia-nvcomp-cu12                    4.2.0.11\n",
            "nvidia-nvjitlink-cu12                 12.5.82\n",
            "nvidia-nvtx-cu12                      12.4.127\n",
            "nvtx                                  0.2.11\n",
            "nx-cugraph-cu12                       25.2.0\n",
            "oauth2client                          4.1.3\n",
            "oauthlib                              3.2.2\n",
            "omegaconf                             2.3.0\n",
            "openai                                1.81.0\n",
            "opencv-contrib-python                 4.11.0.86\n",
            "opencv-python                         4.11.0.86\n",
            "opencv-python-headless                4.11.0.86\n",
            "openpyxl                              3.1.5\n",
            "opt_einsum                            3.4.0\n",
            "optax                                 0.2.4\n",
            "optree                                0.15.0\n",
            "orbax-checkpoint                      0.11.13\n",
            "orjson                                3.10.18\n",
            "osqp                                  1.0.4\n",
            "packaging                             24.2\n",
            "pandas                                2.2.2\n",
            "pandas-datareader                     0.10.0\n",
            "pandas-gbq                            0.29.0\n",
            "pandas-stubs                          2.2.2.240909\n",
            "pandocfilters                         1.5.1\n",
            "panel                                 1.7.0\n",
            "param                                 2.2.0\n",
            "parso                                 0.8.4\n",
            "parsy                                 2.1\n",
            "partd                                 1.4.2\n",
            "pathlib                               1.0.1\n",
            "patsy                                 1.0.1\n",
            "peewee                                3.18.1\n",
            "peft                                  0.15.2\n",
            "pexpect                               4.9.0\n",
            "pickleshare                           0.7.5\n",
            "pillow                                11.2.1\n",
            "pip                                   24.1.2\n",
            "platformdirs                          4.3.8\n",
            "plotly                                5.24.1\n",
            "plotnine                              0.14.5\n",
            "pluggy                                1.6.0\n",
            "ply                                   3.11\n",
            "polars                                1.21.0\n",
            "pooch                                 1.8.2\n",
            "portpicker                            1.5.2\n",
            "preshed                               3.0.9\n",
            "prettytable                           3.16.0\n",
            "proglog                               0.1.12\n",
            "progressbar2                          4.5.0\n",
            "prometheus_client                     0.22.0\n",
            "promise                               2.3\n",
            "prompt_toolkit                        3.0.51\n",
            "propcache                             0.3.1\n",
            "prophet                               1.1.6\n",
            "proto-plus                            1.26.1\n",
            "protobuf                              5.29.4\n",
            "psutil                                5.9.5\n",
            "psycopg2                              2.9.10\n",
            "ptyprocess                            0.7.0\n",
            "py-cpuinfo                            9.0.0\n",
            "py4j                                  0.10.9.7\n",
            "pyarrow                               18.1.0\n",
            "pyasn1                                0.6.1\n",
            "pyasn1_modules                        0.4.2\n",
            "pycairo                               1.28.0\n",
            "pycocotools                           2.0.8\n",
            "pycparser                             2.22\n",
            "pycryptodomex                         3.23.0\n",
            "pydantic                              2.11.4\n",
            "pydantic_core                         2.33.2\n",
            "pydata-google-auth                    1.9.1\n",
            "pydot                                 3.0.4\n",
            "pydotplus                             2.0.2\n",
            "PyDrive                               1.3.1\n",
            "PyDrive2                              1.21.3\n",
            "pyerfa                                2.0.1.5\n",
            "pygame                                2.6.1\n",
            "pygit2                                1.18.0\n",
            "Pygments                              2.19.1\n",
            "PyGObject                             3.42.0\n",
            "PyJWT                                 2.10.1\n",
            "pylibcudf-cu12                        25.2.1\n",
            "pylibcugraph-cu12                     25.2.0\n",
            "pylibraft-cu12                        25.2.0\n",
            "pymc                                  5.22.0\n",
            "pymystem3                             0.2.0\n",
            "pynndescent                           0.5.13\n",
            "pynvjitlink-cu12                      0.6.0\n",
            "pynvml                                12.0.0\n",
            "pyogrio                               0.11.0\n",
            "pyomo                                 6.9.2\n",
            "PyOpenGL                              3.1.9\n",
            "pyOpenSSL                             24.2.1\n",
            "pyparsing                             3.2.3\n",
            "pyperclip                             1.9.0\n",
            "pyproj                                3.7.1\n",
            "pyproject_hooks                       1.2.0\n",
            "pyshp                                 2.3.1\n",
            "PySocks                               1.7.1\n",
            "pyspark                               3.5.1\n",
            "pytensor                              2.30.3\n",
            "pytest                                8.3.5\n",
            "python-apt                            0.0.0\n",
            "python-box                            7.3.2\n",
            "python-dateutil                       2.9.0.post0\n",
            "python-louvain                        0.16\n",
            "python-slugify                        8.0.4\n",
            "python-snappy                         0.7.3\n",
            "python-utils                          3.9.1\n",
            "pytz                                  2025.2\n",
            "pyviz_comms                           3.0.4\n",
            "PyWavelets                            1.8.0\n",
            "PyYAML                                6.0.2\n",
            "pyzmq                                 24.0.1\n",
            "raft-dask-cu12                        25.2.0\n",
            "rapids-dask-dependency                25.2.0\n",
            "ratelim                               0.1.6\n",
            "referencing                           0.36.2\n",
            "regex                                 2024.11.6\n",
            "requests                              2.32.3\n",
            "requests-oauthlib                     2.0.0\n",
            "requests-toolbelt                     1.0.0\n",
            "requirements-parser                   0.9.0\n",
            "rich                                  13.9.4\n",
            "rmm-cu12                              25.2.0\n",
            "roman-numerals-py                     3.1.0\n",
            "rpds-py                               0.25.1\n",
            "rpy2                                  3.5.17\n",
            "rsa                                   4.9.1\n",
            "safetensors                           0.5.3\n",
            "scikit-image                          0.25.2\n",
            "scikit-learn                          1.6.1\n",
            "scipy                                 1.15.3\n",
            "scooby                                0.10.1\n",
            "scs                                   3.2.7.post2\n",
            "seaborn                               0.13.2\n",
            "SecretStorage                         3.3.3\n",
            "Send2Trash                            1.8.3\n",
            "sentence-transformers                 4.1.0\n",
            "sentencepiece                         0.2.0\n",
            "sentry-sdk                            2.29.1\n",
            "setproctitle                          1.3.6\n",
            "setuptools                            75.2.0\n",
            "shap                                  0.47.2\n",
            "shapely                               2.1.1\n",
            "shellingham                           1.5.4\n",
            "simple-parsing                        0.1.7\n",
            "simplejson                            3.20.1\n",
            "simsimd                               6.2.1\n",
            "six                                   1.17.0\n",
            "sklearn-compat                        0.1.3\n",
            "sklearn-pandas                        2.2.0\n",
            "slicer                                0.0.8\n",
            "smart-open                            7.1.0\n",
            "smmap                                 5.0.2\n",
            "sniffio                               1.3.1\n",
            "snowballstemmer                       3.0.1\n",
            "sortedcontainers                      2.4.0\n",
            "soundfile                             0.13.1\n",
            "soupsieve                             2.7\n",
            "soxr                                  0.5.0.post1\n",
            "spacy                                 3.8.6\n",
            "spacy-legacy                          3.0.12\n",
            "spacy-loggers                         1.0.5\n",
            "spanner-graph-notebook                1.1.6\n",
            "Sphinx                                8.2.3\n",
            "sphinxcontrib-applehelp               2.0.0\n",
            "sphinxcontrib-devhelp                 2.0.0\n",
            "sphinxcontrib-htmlhelp                2.1.0\n",
            "sphinxcontrib-jsmath                  1.0.1\n",
            "sphinxcontrib-qthelp                  2.0.0\n",
            "sphinxcontrib-serializinghtml         2.0.0\n",
            "SQLAlchemy                            2.0.41\n",
            "sqlglot                               25.20.2\n",
            "sqlparse                              0.5.3\n",
            "srsly                                 2.5.1\n",
            "stanio                                0.5.1\n",
            "statsmodels                           0.14.4\n",
            "stringzilla                           3.12.5\n",
            "stumpy                                1.13.0\n",
            "sympy                                 1.13.1\n",
            "tables                                3.10.2\n",
            "tabulate                              0.9.0\n",
            "tbb                                   2022.1.0\n",
            "tblib                                 3.1.0\n",
            "tcmlib                                1.3.0\n",
            "tenacity                              9.1.2\n",
            "tensorboard                           2.18.0\n",
            "tensorboard-data-server               0.7.2\n",
            "tensorflow                            2.18.0\n",
            "tensorflow-datasets                   4.9.8\n",
            "tensorflow_decision_forests           1.11.0\n",
            "tensorflow-hub                        0.16.1\n",
            "tensorflow-io-gcs-filesystem          0.37.1\n",
            "tensorflow-metadata                   1.17.1\n",
            "tensorflow-probability                0.25.0\n",
            "tensorflow-text                       2.18.1\n",
            "tensorstore                           0.1.74\n",
            "termcolor                             3.1.0\n",
            "terminado                             0.18.1\n",
            "text-unidecode                        1.3\n",
            "textblob                              0.19.0\n",
            "tf_keras                              2.18.0\n",
            "tf-slim                               1.1.0\n",
            "thinc                                 8.3.6\n",
            "threadpoolctl                         3.6.0\n",
            "tifffile                              2025.5.21\n",
            "tiktoken                              0.9.0\n",
            "timm                                  1.0.15\n",
            "tinycss2                              1.4.0\n",
            "tokenizers                            0.21.1\n",
            "toml                                  0.10.2\n",
            "toolz                                 0.12.1\n",
            "torch                                 2.6.0+cu124\n",
            "torchao                               0.10.0\n",
            "torchaudio                            2.6.0+cu124\n",
            "torchdata                             0.11.0\n",
            "torchsummary                          1.5.1\n",
            "torchtune                             0.6.1\n",
            "torchvision                           0.21.0+cu124\n",
            "tornado                               6.4.2\n",
            "tqdm                                  4.67.1\n",
            "traitlets                             5.7.1\n",
            "traittypes                            0.2.1\n",
            "transformers                          4.52.2\n",
            "treelite                              4.4.1\n",
            "treescope                             0.1.9\n",
            "triton                                3.2.0\n",
            "tsfresh                               0.21.0\n",
            "tweepy                                4.15.0\n",
            "typeguard                             4.4.2\n",
            "typer                                 0.15.3\n",
            "types-pytz                            2025.2.0.20250516\n",
            "types-setuptools                      80.8.0.20250521\n",
            "typing_extensions                     4.13.2\n",
            "typing-inspection                     0.4.1\n",
            "tzdata                                2025.2\n",
            "tzlocal                               5.3.1\n",
            "uc-micro-py                           1.0.3\n",
            "ucx-py-cu12                           0.42.0\n",
            "ucxx-cu12                             0.42.0\n",
            "umap-learn                            0.5.7\n",
            "umf                                   0.10.0\n",
            "uritemplate                           4.1.1\n",
            "urllib3                               2.4.0\n",
            "vega-datasets                         0.9.0\n",
            "wadllib                               1.3.6\n",
            "wandb                                 0.19.11\n",
            "wasabi                                1.1.3\n",
            "wcwidth                               0.2.13\n",
            "weasel                                0.4.1\n",
            "webcolors                             24.11.1\n",
            "webencodings                          0.5.1\n",
            "websocket-client                      1.8.0\n",
            "websockets                            15.0.1\n",
            "Werkzeug                              3.1.3\n",
            "wheel                                 0.45.1\n",
            "widgetsnbextension                    3.6.10\n",
            "wordcloud                             1.9.4\n",
            "wrapt                                 1.17.2\n",
            "wurlitzer                             3.1.1\n",
            "xarray                                2025.3.1\n",
            "xarray-einstats                       0.8.0\n",
            "xgboost                               2.1.4\n",
            "xlrd                                  2.0.1\n",
            "xxhash                                3.5.0\n",
            "xyzservices                           2025.4.0\n",
            "yarl                                  1.20.0\n",
            "ydf                                   0.12.0\n",
            "yellowbrick                           1.5\n",
            "yfinance                              0.2.61\n",
            "zict                                  3.0.0\n",
            "zipp                                  3.21.0\n",
            "zstandard                             0.23.0\n"
          ]
        }
      ]
    },
    {
      "cell_type": "markdown",
      "source": [
        "#**Student activity**"
      ],
      "metadata": {
        "id": "2vq0rcmopscB"
      }
    },
    {
      "cell_type": "code",
      "source": [
        "#@markdown <font color = 'red'> **🐹 Student Activity 1 ⤵️**\n",
        "\n",
        "#@markdown <font color = 'blue'> **dictionary ➡️ data frame, shape (3,5) 3행 5열**\n",
        "\n",
        "#-*- coding: utf-8 -*-\n",
        "\n",
        "# dictionary data with column name as key & list as value\n",
        "!pip install pandas\n",
        "import pandas as pd\n",
        "dict_data = {'c0':[1,2,3], 'c1':[4,5,6], 'c2':[7,8,9], 'c3':[10,11,12], 'c4':[13,14,15]}\n",
        "\n",
        "print('\\n')\n",
        "print(dict_data)\n",
        "print('\\n')\n",
        "#함수로 dict_data 변수 내용을 데이터프레임으로 변환. 변수 df에 할당\n",
        "df = pd.DataFrame(dict_data)\n",
        "\n",
        "print(df)\n",
        "\n",
        "print('\\n')\n",
        "print(type(df))\n"
      ],
      "metadata": {
        "colab": {
          "base_uri": "https://localhost:8080/"
        },
        "id": "KSy0Rz6byu99",
        "outputId": "cde4d966-fc50-4e02-a3cc-9d07cb1f79a2"
      },
      "execution_count": null,
      "outputs": [
        {
          "output_type": "stream",
          "name": "stdout",
          "text": [
            "Requirement already satisfied: pandas in /usr/local/lib/python3.11/dist-packages (2.2.2)\n",
            "Requirement already satisfied: numpy>=1.23.2 in /usr/local/lib/python3.11/dist-packages (from pandas) (2.0.2)\n",
            "Requirement already satisfied: python-dateutil>=2.8.2 in /usr/local/lib/python3.11/dist-packages (from pandas) (2.8.2)\n",
            "Requirement already satisfied: pytz>=2020.1 in /usr/local/lib/python3.11/dist-packages (from pandas) (2025.2)\n",
            "Requirement already satisfied: tzdata>=2022.7 in /usr/local/lib/python3.11/dist-packages (from pandas) (2025.2)\n",
            "Requirement already satisfied: six>=1.5 in /usr/local/lib/python3.11/dist-packages (from python-dateutil>=2.8.2->pandas) (1.17.0)\n",
            "\n",
            "\n",
            "{'c0': [1, 2, 3], 'c1': [4, 5, 6], 'c2': [7, 8, 9], 'c3': [10, 11, 12], 'c4': [13, 14, 15]}\n",
            "\n",
            "\n",
            "   c0  c1  c2  c3  c4\n",
            "0   1   4   7  10  13\n",
            "1   2   5   8  11  14\n",
            "2   3   6   9  12  15\n",
            "\n",
            "\n",
            "<class 'pandas.core.frame.DataFrame'>\n"
          ]
        }
      ]
    },
    {
      "cell_type": "code",
      "source": [
        "!pip install pandas\n",
        "import pandas as pd\n",
        "dict_data = {'c0':[1,2,3], 'c1':[4,5,6], 'c2':[7,8,9], 'c3':[10,11,12], 'c4':[13,14,15]}\n",
        "\n",
        "print('\\n')\n",
        "print(dict_data)\n",
        "print('\\n')\n",
        "\n",
        "df = pd.DataFrame(dict_data)\n",
        "\n",
        "print(df)\n",
        "\n",
        "print('\\n')\n",
        "print(type(df))"
      ],
      "metadata": {
        "colab": {
          "base_uri": "https://localhost:8080/"
        },
        "id": "tLwZo8JUh865",
        "outputId": "a3dce65b-7724-4bbd-8f59-075d9a0cc3e7"
      },
      "execution_count": null,
      "outputs": [
        {
          "output_type": "stream",
          "name": "stdout",
          "text": [
            "Requirement already satisfied: pandas in /usr/local/lib/python3.11/dist-packages (2.2.2)\n",
            "Requirement already satisfied: numpy>=1.23.2 in /usr/local/lib/python3.11/dist-packages (from pandas) (2.0.2)\n",
            "Requirement already satisfied: python-dateutil>=2.8.2 in /usr/local/lib/python3.11/dist-packages (from pandas) (2.9.0.post0)\n",
            "Requirement already satisfied: pytz>=2020.1 in /usr/local/lib/python3.11/dist-packages (from pandas) (2025.2)\n",
            "Requirement already satisfied: tzdata>=2022.7 in /usr/local/lib/python3.11/dist-packages (from pandas) (2025.2)\n",
            "Requirement already satisfied: six>=1.5 in /usr/local/lib/python3.11/dist-packages (from python-dateutil>=2.8.2->pandas) (1.17.0)\n",
            "\n",
            "\n",
            "{'c0': [1, 2, 3], 'c1': [4, 5, 6], 'c2': [7, 8, 9], 'c3': [10, 11, 12], 'c4': [13, 14, 15]}\n",
            "\n",
            "\n",
            "   c0  c1  c2  c3  c4\n",
            "0   1   4   7  10  13\n",
            "1   2   5   8  11  14\n",
            "2   3   6   9  12  15\n",
            "\n",
            "\n",
            "<class 'pandas.core.frame.DataFrame'>\n"
          ]
        }
      ]
    },
    {
      "cell_type": "code",
      "source": [
        "#@markdown <font color = 'red'> **🐹 Student Activity 1 ⤵️**\n",
        "\n",
        "#@markdown <font color = 'blue'> **dictionary ➡️ data frame, shape (3,5) 3행 5열 with Index Names**\n",
        "\n",
        "#-*- coding: utf-8 -*-\n",
        "\n",
        "# dictionary data with column name as key & list as value\n",
        "\n",
        "import pandas as pd\n",
        "dict_data = {'c0':[1,2,3], 'c1':[4,5,6], 'c2':[7,8,9], 'c3':[10,11,12], 'c4':[13,14,15]}\n",
        "\n",
        "\n",
        "#함수로 dict_data 변수 내용을 데이터프레임으로 변환. 변수 df에 할당. 아래 [ ] 내용은 new index name이 된다.\n",
        "df = pd.DataFrame(dict_data, index=['item1','item2','item3'])\n",
        "\n",
        "print(df)\n",
        "\n",
        "print('\\n')\n",
        "print(type(df))"
      ],
      "metadata": {
        "id": "TfSC1ikpWawO",
        "outputId": "fc406c77-7485-443d-afac-93f8a53f4032",
        "colab": {
          "base_uri": "https://localhost:8080/"
        }
      },
      "execution_count": null,
      "outputs": [
        {
          "output_type": "stream",
          "name": "stdout",
          "text": [
            "       c0  c1  c2  c3  c4\n",
            "item1   1   4   7  10  13\n",
            "item2   2   5   8  11  14\n",
            "item3   3   6   9  12  15\n",
            "\n",
            "\n",
            "<class 'pandas.core.frame.DataFrame'>\n"
          ]
        }
      ]
    },
    {
      "cell_type": "code",
      "source": [
        "import pandas as pd\n",
        "dict_data = {'c0':[1,2,3], 'c1':[4,5,6], 'c2':[7,8,9], 'c3':[10,11,12], 'c4':[13,14,15]}\n",
        "\n",
        "\n",
        "df = pd.DataFrame(dict_data, index=['item1','item2','item3'])\n",
        "\n",
        "print(df)\n",
        "\n",
        "print('\\n')\n",
        "print(type(df))"
      ],
      "metadata": {
        "colab": {
          "base_uri": "https://localhost:8080/"
        },
        "id": "K_wJVb2eiCya",
        "outputId": "96410d2a-4a2d-4243-bb78-9ada77b117ac"
      },
      "execution_count": null,
      "outputs": [
        {
          "output_type": "stream",
          "name": "stdout",
          "text": [
            "       c0  c1  c2  c3  c4\n",
            "item1   1   4   7  10  13\n",
            "item2   2   5   8  11  14\n",
            "item3   3   6   9  12  15\n",
            "\n",
            "\n",
            "<class 'pandas.core.frame.DataFrame'>\n"
          ]
        }
      ]
    },
    {
      "cell_type": "markdown",
      "source": [
        "👀 🐾 **Give names of row index & coumn name**"
      ],
      "metadata": {
        "id": "Ole8Rw5-7VHQ"
      }
    },
    {
      "cell_type": "code",
      "source": [
        "#@markdown <font color = 'red'> **🐹 Student Activity 2 ⤵️**\n",
        "\n",
        "#@markdown <font color = 'blue'> **행 인덱스/ 열 이름 지정하여 데이터 프레임으로 만들기**\n",
        "\n",
        "#-*- coding: urf-8 -*-\n",
        "\n",
        "import pandas as pd\n",
        "\n",
        "tuple_data = ([15, 'Male', 'Public'], [17, 'Female', 'Priviate'])\n",
        "\n",
        "df = pd.DataFrame(tuple_data, index = ['Simon', 'Emma'],\n",
        "              columns = ['Age', 'Gender', 'School'])\n",
        "\n",
        "print(type(df))\n",
        "print('\\n')\n",
        "\n",
        "print(df)\n",
        "print('\\n')\n",
        "\n",
        "print(df.index)\n",
        "print('\\n')\n",
        "\n",
        "print(df.columns)\n",
        "print('\\n')"
      ],
      "metadata": {
        "id": "3mCeh2bG7wwk",
        "outputId": "bee47e78-00b5-4c1f-a36e-8fba19c755a0",
        "colab": {
          "base_uri": "https://localhost:8080/"
        }
      },
      "execution_count": null,
      "outputs": [
        {
          "output_type": "stream",
          "name": "stdout",
          "text": [
            "<class 'pandas.core.frame.DataFrame'>\n",
            "\n",
            "\n",
            "       Age  Gender    School\n",
            "Simon   15    Male    Public\n",
            "Emma    17  Female  Priviate\n",
            "\n",
            "\n",
            "Index(['Simon', 'Emma'], dtype='object')\n",
            "\n",
            "\n",
            "Index(['Age', 'Gender', 'School'], dtype='object')\n",
            "\n",
            "\n"
          ]
        }
      ]
    },
    {
      "cell_type": "code",
      "source": [
        "import pandas as pd\n",
        "\n",
        "tuple_data = ([15, 'Male', 'Public'], [17, 'Female', 'Priviate'])\n",
        "\n",
        "df = pd.DataFrame(tuple_data, index = ['Simon', 'Emma'],\n",
        "              columns = ['Age', 'Gender', 'School'])\n",
        "\n",
        "print(type(df))\n",
        "print('\\n')\n",
        "\n",
        "print(df)\n",
        "print('\\n')\n",
        "\n",
        "print(df.index)\n",
        "print('\\n')\n",
        "\n",
        "print(df.columns)\n",
        "print('\\n')"
      ],
      "metadata": {
        "colab": {
          "base_uri": "https://localhost:8080/"
        },
        "id": "9U-SXZigiYxv",
        "outputId": "19823934-4ce8-4bb4-cb8c-7ac820c48472"
      },
      "execution_count": null,
      "outputs": [
        {
          "output_type": "stream",
          "name": "stdout",
          "text": [
            "<class 'pandas.core.frame.DataFrame'>\n",
            "\n",
            "\n",
            "       Age  Gender    School\n",
            "Simon   15    Male    Public\n",
            "Emma    17  Female  Priviate\n",
            "\n",
            "\n",
            "Index(['Simon', 'Emma'], dtype='object')\n",
            "\n",
            "\n",
            "Index(['Age', 'Gender', 'School'], dtype='object')\n",
            "\n",
            "\n"
          ]
        }
      ]
    },
    {
      "cell_type": "code",
      "source": [
        "import pandas as pd\n",
        "dict_data = {'c0':[1,2,3], 'c1':[4,5,6], 'c2':[7,8,9], 'c3':[10,11,12], 'c4':[13,14,15]}\n",
        "\n",
        "\n",
        "#함수로 dict_data 변수 내용을 데이터프레임으로 변환. 변수 df에 할당. 아래 [ ] 내용은 new index name이 된다.\n",
        "df = pd.DataFrame(dict_data, index=['item1','item2','item3'])\n",
        "\n",
        "print(df)\n",
        "\n",
        "print('\\n')\n",
        "print(type(df))"
      ],
      "metadata": {
        "id": "vgRnMgwDiH16"
      },
      "execution_count": null,
      "outputs": []
    },
    {
      "cell_type": "code",
      "source": [
        "import pandas as pd\n",
        "dict_data = {'c0':[1,2,3], 'c1':[4,5,6], 'c2':[7,8,9], 'c3':[10,11,12], 'c4':[13,14,15]}\n",
        "\n",
        "\n",
        "df = pd.DataFrame(dict_data, index=['item1','item2','item3'])\n",
        "\n",
        "print(df)\n",
        "\n",
        "print('\\n')\n",
        "print(type(df))"
      ],
      "metadata": {
        "colab": {
          "base_uri": "https://localhost:8080/"
        },
        "id": "O8FF_BxLibRi",
        "outputId": "d813182a-3872-49b7-fe7b-f650f1739590"
      },
      "execution_count": null,
      "outputs": [
        {
          "output_type": "stream",
          "name": "stdout",
          "text": [
            "       c0  c1  c2  c3  c4\n",
            "item1   1   4   7  10  13\n",
            "item2   2   5   8  11  14\n",
            "item3   3   6   9  12  15\n",
            "\n",
            "\n",
            "<class 'pandas.core.frame.DataFrame'>\n"
          ]
        }
      ]
    },
    {
      "cell_type": "code",
      "source": [
        "#@markdown <font color = 'red'> **🐹 Student Activity 3 ⤵️**\n",
        "\n",
        "#@markdown <font color = 'blue'>위 코드셀 행 인덱스 (row index)를 ['Student 1', 'Student 2']로 변경하고, 열 이름 (column name)을 ['Number of Years', 'M/F', 'Affiliation'] 으로 변경\n",
        "\n",
        "\n",
        "import pandas as pd\n",
        "\n",
        "tuple_data = ([15, 'Male', 'Public'], [17, 'Female', 'Priviate'])\n",
        "\n",
        "df = pd.DataFrame(tuple_data, index = ['Simon', 'Emma'],\n",
        "              columns = ['Age', 'Gender', 'School'])\n",
        "print(df)\n",
        "\n",
        "\n",
        "#@markdown Purpose: 🌼 Add some variaions!\n",
        "#@markdown - new index names 는 새로 지정, new column names는 새로 지정\n",
        "\n",
        "df.index = ['Student 1', 'Student 2']\n",
        "\n",
        "df.columns = ['Number of Years', 'M/F', 'Affiliation']\n",
        "\n",
        "#UserWarning: Pandas doesn't allow columns to be created via a new attribute name. If you miss 'inplace=True argument, you will end up with old column names.\n",
        "#df.rename(columns={'Age':'Number of Years', 'Gender':'M/F', 'School':'Affiliation'}, inplace = True)\n",
        "\n",
        "print(type(df))\n",
        "print('\\n')\n",
        "print(df)\n",
        "\n"
      ],
      "metadata": {
        "id": "Wf6omO_x-Uin",
        "outputId": "464e9a52-bd0c-41de-e743-e8404364512b",
        "colab": {
          "base_uri": "https://localhost:8080/"
        }
      },
      "execution_count": null,
      "outputs": [
        {
          "output_type": "stream",
          "name": "stdout",
          "text": [
            "       Age  Gender    School\n",
            "Simon   15    Male    Public\n",
            "Emma    17  Female  Priviate\n",
            "<class 'pandas.core.frame.DataFrame'>\n",
            "\n",
            "\n",
            "           Number of Years     M/F Affiliation\n",
            "Student 1               15    Male      Public\n",
            "Student 2               17  Female    Priviate\n"
          ]
        }
      ]
    },
    {
      "cell_type": "code",
      "source": [
        "import pandas as pd\n",
        "\n",
        "tuple_data = ([15, 'Male', 'Public'], [17, 'Female', 'Priviate'])\n",
        "\n",
        "df = pd.DataFrame(tuple_data, index = ['Simon', 'Emma'],\n",
        "              columns = ['Age', 'Gender', 'School'])\n",
        "print(df)\n",
        "\n",
        "\n",
        "\n",
        "df.index = ['Student 1', 'Student 2']\n",
        "\n",
        "df.columns = ['Number of Years', 'M/F', 'Affiliation']\n",
        "\n",
        "\n",
        "print(type(df))\n",
        "print('\\n')\n",
        "print(df)"
      ],
      "metadata": {
        "colab": {
          "base_uri": "https://localhost:8080/"
        },
        "id": "cDYPzPUaid4p",
        "outputId": "f4afd88a-c4e8-48de-9da7-4fac2e039db2"
      },
      "execution_count": null,
      "outputs": [
        {
          "output_type": "stream",
          "name": "stdout",
          "text": [
            "       Age  Gender    School\n",
            "Simon   15    Male    Public\n",
            "Emma    17  Female  Priviate\n",
            "<class 'pandas.core.frame.DataFrame'>\n",
            "\n",
            "\n",
            "           Number of Years     M/F Affiliation\n",
            "Student 1               15    Male      Public\n",
            "Student 2               17  Female    Priviate\n"
          ]
        }
      ]
    },
    {
      "cell_type": "code",
      "source": [
        "#@markdown <font color = 'red'> **🐹 Student Activity 3_1 ⤵️**\n",
        "\n",
        "#@markdown <font color = 'blue'> **Instead of giving new names for the rows and columns directly, try to use 'rename()' function!**\n",
        "\n",
        "#@markdown - When new names are given to index names and column names, rename() function can be used.\n",
        "\n",
        "import pandas as pd\n",
        "\n",
        "tuple_data = ([15, 'Male', 'Public'], [17, 'Female', 'Priviate'])\n",
        "\n",
        "df = pd.DataFrame(tuple_data, index = ['Simon', 'Emma'],\n",
        "              columns = ['Age', 'Gender', 'School'])\n",
        "\n",
        "print(df)\n",
        "print('\\n')\n",
        "\n",
        "df.rename(index = {'Simon':'Student1', 'Emma':'Student 2'}, inplace = True)\n",
        "df.rename(columns = {'Age':'Number of Years', 'Gender':'M/F', 'School':'Affiliation'}, inplace = True)\n",
        "\n",
        "#UserWarning: If you miss 'inplace=True argument, you will end up with old column names.\n",
        "\n",
        "print(type(df))\n",
        "print('\\n')\n",
        "print(df)"
      ],
      "metadata": {
        "id": "BCqSNiut8cvP",
        "outputId": "cc78eeb3-498d-4b51-9cf7-d36a11e19b54",
        "colab": {
          "base_uri": "https://localhost:8080/"
        }
      },
      "execution_count": null,
      "outputs": [
        {
          "output_type": "stream",
          "name": "stdout",
          "text": [
            "       Age  Gender    School\n",
            "Simon   15    Male    Public\n",
            "Emma    17  Female  Priviate\n",
            "\n",
            "\n",
            "<class 'pandas.core.frame.DataFrame'>\n",
            "\n",
            "\n",
            "           Number of Years     M/F Affiliation\n",
            "Student1                15    Male      Public\n",
            "Student 2               17  Female    Priviate\n"
          ]
        }
      ]
    },
    {
      "cell_type": "code",
      "source": [
        "import pandas as pd\n",
        "\n",
        "tuple_data = ([15, 'Male', 'Public'], [17, 'Female', 'Priviate'])\n",
        "\n",
        "df = pd.DataFrame(tuple_data, index = ['Simon', 'Emma'],\n",
        "              columns = ['Age', 'Gender', 'School'])\n",
        "\n",
        "print(df)\n",
        "print('\\n')\n",
        "\n",
        "df.rename(index = {'Simon':'Student1', 'Emma':'Student 2'}, inplace = True)\n",
        "df.rename(columns = {'Age':'Number of Years', 'Gender':'M/F', 'School':'Affiliation'}, inplace = True)\n",
        "\n",
        "\n",
        "print(type(df))\n",
        "print('\\n')\n",
        "print(df)"
      ],
      "metadata": {
        "colab": {
          "base_uri": "https://localhost:8080/"
        },
        "id": "TVcuwaiHivN-",
        "outputId": "11605b96-8ad1-48a1-ed05-714e7f67a359"
      },
      "execution_count": null,
      "outputs": [
        {
          "output_type": "stream",
          "name": "stdout",
          "text": [
            "       Age  Gender    School\n",
            "Simon   15    Male    Public\n",
            "Emma    17  Female  Priviate\n",
            "\n",
            "\n",
            "<class 'pandas.core.frame.DataFrame'>\n",
            "\n",
            "\n",
            "           Number of Years     M/F Affiliation\n",
            "Student1                15    Male      Public\n",
            "Student 2               17  Female    Priviate\n"
          ]
        }
      ]
    },
    {
      "cell_type": "markdown",
      "source": [
        "###**💊 In Pandas, inplace=True is an argument used in methods that modify a DataFrame or Series.**\n",
        "\n",
        "- When inplace=True, the operation modifies the original DataFrame directly.\n",
        "\n",
        "- When inplace=False (default), the operation returns a new DataFrame."
      ],
      "metadata": {
        "id": "hid3lFp8r5vI"
      }
    },
    {
      "cell_type": "code",
      "source": [
        "#@markdown <font color = 'red'> **🐹 Student Activity 3_2 ⤵️**\n",
        "\n",
        "#@markdown <font color = 'blue'> **💊 If you miss 'inplace=True argument of pd.rename() function for the immediate application of the operation, you will end up with old row/column names.**\n",
        "\n",
        "import pandas as pd\n",
        "\n",
        "tuple_data = ([15, 'Male', 'Public'], [17, 'Female', 'Priviate'])\n",
        "\n",
        "df = pd.DataFrame(tuple_data, index = ['Simon', 'Emma'],\n",
        "              columns = ['Age', 'Gender', 'School'])\n",
        "\n",
        "df.rename(index = {'Simon':'Student1', 'Emma':'Student 2'})\n",
        "\n",
        "df.rename(columns = {'Age':'Number of Years', 'Gender':'M/F', 'School':'Affiliation'})\n",
        "\n",
        "\n",
        "print(type(df))\n",
        "print('\\n')\n",
        "print(df)"
      ],
      "metadata": {
        "id": "Pc_Q-FY2-Cdf",
        "outputId": "4cd367f2-764f-4d2c-f8d2-eb73957d0056",
        "colab": {
          "base_uri": "https://localhost:8080/"
        }
      },
      "execution_count": null,
      "outputs": [
        {
          "output_type": "stream",
          "name": "stdout",
          "text": [
            "<class 'pandas.core.frame.DataFrame'>\n",
            "\n",
            "\n",
            "       Age  Gender    School\n",
            "Simon   15    Male    Public\n",
            "Emma    17  Female  Priviate\n"
          ]
        }
      ]
    },
    {
      "cell_type": "code",
      "source": [
        "import pandas as pd\n",
        "\n",
        "tuple_data = ([15, 'Male', 'Public'], [17, 'Female', 'Priviate'])\n",
        "\n",
        "df = pd.DataFrame(tuple_data, index = ['Simon', 'Emma'],\n",
        "              columns = ['Age', 'Gender', 'School'])\n",
        "\n",
        "df.rename(index = {'Simon':'Student1', 'Emma':'Student 2'})\n",
        "\n",
        "df.rename(columns = {'Age':'Number of Years', 'Gender':'M/F', 'School':'Affiliation'})\n",
        "\n",
        "\n",
        "print(type(df))\n",
        "print('\\n')\n",
        "print(df)"
      ],
      "metadata": {
        "colab": {
          "base_uri": "https://localhost:8080/"
        },
        "id": "EUvxFsoliyhd",
        "outputId": "1febca0a-4331-4fe9-ded4-70effe3526f4"
      },
      "execution_count": null,
      "outputs": [
        {
          "output_type": "stream",
          "name": "stdout",
          "text": [
            "<class 'pandas.core.frame.DataFrame'>\n",
            "\n",
            "\n",
            "       Age  Gender    School\n",
            "Simon   15    Male    Public\n",
            "Emma    17  Female  Priviate\n"
          ]
        }
      ]
    },
    {
      "cell_type": "code",
      "source": [
        "#💊 🐹 ⤵️ (cf., by default: inplce = False 인자(argument))\n",
        "\n",
        "import pandas as pd\n",
        "\n",
        "tuple_data = ([15, 'Male', 'Public'], [17, 'Female', 'Priviate'])\n",
        "\n",
        "df = pd.DataFrame(tuple_data, index = ['Simon', 'Emma'],\n",
        "              columns = ['Age', 'Gender', 'School'])\n",
        "\n",
        "df.rename(index = {'Simon':'Student1', 'Emma':'Student 2'}, inplace = False)\n",
        "\n",
        "df.rename(columns = {'Age':'Number of Years', 'Gender':'M/F', 'School':'Affiliation'}, inplace = False)\n",
        "\n",
        "\n",
        "print(type(df))\n",
        "print('\\n')\n",
        "print(df)"
      ],
      "metadata": {
        "colab": {
          "base_uri": "https://localhost:8080/"
        },
        "id": "pMgGd8_J88nn",
        "outputId": "ad0e03d3-15eb-41f1-cefa-f3446b65233e"
      },
      "execution_count": null,
      "outputs": [
        {
          "output_type": "stream",
          "name": "stdout",
          "text": [
            "<class 'pandas.core.frame.DataFrame'>\n",
            "\n",
            "\n",
            "       Age  Gender    School\n",
            "Simon   15    Male    Public\n",
            "Emma    17  Female  Priviate\n"
          ]
        }
      ]
    },
    {
      "cell_type": "code",
      "source": [
        "import pandas as pd\n",
        "\n",
        "tuple_data = ([15, 'Male', 'Public'], [17, 'Female', 'Priviate'])\n",
        "\n",
        "df = pd.DataFrame(tuple_data, index = ['Simon', 'Emma'],\n",
        "              columns = ['Age', 'Gender', 'School'])\n",
        "\n",
        "df.rename(index = {'Simon':'Student1', 'Emma':'Student 2'}, inplace = False)\n",
        "\n",
        "df.rename(columns = {'Age':'Number of Years', 'Gender':'M/F', 'School':'Affiliation'}, inplace = False)\n",
        "\n",
        "\n",
        "print(type(df))\n",
        "print('\\n')\n",
        "print(df)"
      ],
      "metadata": {
        "colab": {
          "base_uri": "https://localhost:8080/"
        },
        "id": "fj6Y6KOti0xC",
        "outputId": "e9991722-9e3a-4645-fa65-42a1cf8f547e"
      },
      "execution_count": null,
      "outputs": [
        {
          "output_type": "stream",
          "name": "stdout",
          "text": [
            "<class 'pandas.core.frame.DataFrame'>\n",
            "\n",
            "\n",
            "       Age  Gender    School\n",
            "Simon   15    Male    Public\n",
            "Emma    17  Female  Priviate\n"
          ]
        }
      ]
    },
    {
      "cell_type": "markdown",
      "source": [
        "<font color = 'blue'>👀 🐾 **Dropping rows & colums**"
      ],
      "metadata": {
        "id": "J8FhLIJoGyOP"
      }
    },
    {
      "cell_type": "code",
      "source": [
        "#@markdown <font color = 'red'> **🐹 Student Activity 4 ⤵️**\n",
        "\n",
        "#@markdown <font color = 'blue'> **Dropping rows 행 삭제**\n",
        "\n",
        "import pandas as pd\n",
        "\n",
        "exam_data = {'Math':[90, 80, 70], 'English':[98, 89, 95],\n",
        "             'Music':[85, 95, 100], 'Gym':[100,90,90]}\n",
        "\n",
        "df = pd.DataFrame(exam_data, index = ['Simon', 'Emma', 'Mary'])\n",
        "\n",
        "print(df)\n",
        "print('\\n')\n",
        "\n",
        "df2 = df[:]\n",
        "\n",
        "# axis=0 for dropping \"rows\" (cf., axis=1 for dopping columns)\n",
        "df2.drop('Emma', axis=0, inplace = True)\n",
        "\n",
        "print(df2)\n",
        "print('\\n')"
      ],
      "metadata": {
        "id": "0iqCoSQZEB4I",
        "outputId": "7ff4c631-f4b4-428e-a8d3-fe21216dbdbe",
        "colab": {
          "base_uri": "https://localhost:8080/"
        }
      },
      "execution_count": null,
      "outputs": [
        {
          "output_type": "stream",
          "name": "stdout",
          "text": [
            "       Math  English  Music  Gym\n",
            "Simon    90       98     85  100\n",
            "Emma     80       89     95   90\n",
            "Mary     70       95    100   90\n",
            "\n",
            "\n",
            "       Math  English  Music  Gym\n",
            "Simon    90       98     85  100\n",
            "Mary     70       95    100   90\n",
            "\n",
            "\n"
          ]
        },
        {
          "output_type": "stream",
          "name": "stderr",
          "text": [
            "<ipython-input-16-4721aa9579e3>:16: SettingWithCopyWarning: \n",
            "A value is trying to be set on a copy of a slice from a DataFrame\n",
            "\n",
            "See the caveats in the documentation: https://pandas.pydata.org/pandas-docs/stable/user_guide/indexing.html#returning-a-view-versus-a-copy\n",
            "  df2.drop('Emma', axis=0, inplace = True) # axis=0 for dropping \"rows\" (cf., axis=1 for dopping columns)\n"
          ]
        }
      ]
    },
    {
      "cell_type": "code",
      "source": [
        "import pandas as pd\n",
        "\n",
        "exam_data = {'Math':[90, 80, 70], 'English':[98, 89, 95],\n",
        "             'Music':[85, 95, 100], 'Gym':[100,90,90]}\n",
        "\n",
        "df = pd.DataFrame(exam_data, index = ['Simon', 'Emma', 'Mary'])\n",
        "\n",
        "print(df)\n",
        "print('\\n')\n",
        "\n",
        "df2 = df[:]\n",
        "\n",
        "df2.drop('Emma', axis=0, inplace = True)\n",
        "\n",
        "print(df2)\n",
        "print('\\n')"
      ],
      "metadata": {
        "colab": {
          "base_uri": "https://localhost:8080/"
        },
        "id": "bZfQfk_Mi3PV",
        "outputId": "3ec6b78a-b766-49d5-b362-0ae82ea8cf18"
      },
      "execution_count": null,
      "outputs": [
        {
          "output_type": "stream",
          "name": "stdout",
          "text": [
            "       Math  English  Music  Gym\n",
            "Simon    90       98     85  100\n",
            "Emma     80       89     95   90\n",
            "Mary     70       95    100   90\n",
            "\n",
            "\n",
            "       Math  English  Music  Gym\n",
            "Simon    90       98     85  100\n",
            "Mary     70       95    100   90\n",
            "\n",
            "\n"
          ]
        },
        {
          "output_type": "stream",
          "name": "stderr",
          "text": [
            "<ipython-input-10-0051cbdbf330>:13: SettingWithCopyWarning: \n",
            "A value is trying to be set on a copy of a slice from a DataFrame\n",
            "\n",
            "See the caveats in the documentation: https://pandas.pydata.org/pandas-docs/stable/user_guide/indexing.html#returning-a-view-versus-a-copy\n",
            "  df2.drop('Emma', axis=0, inplace = True)\n"
          ]
        }
      ]
    },
    {
      "cell_type": "code",
      "source": [
        "#@markdown <font color = 'red'> **🐹 Student Activity 4 ⤵️**\n",
        "\n",
        "#@markdown <font color = 'blue'> **Dropping columns 열 삭제**\n",
        "import pandas as pd\n",
        "\n",
        "exam_data = {'Math':[90, 80, 70], 'English':[98, 89, 95],\n",
        "             'Music':[85, 95, 100], 'Gym':[100,90,90]}\n",
        "\n",
        "df = pd.DataFrame(exam_data, index = ['Simon', 'Emma', 'Mary'])\n",
        "\n",
        "print(df)\n",
        "print('\\n')\n",
        "\n",
        "df2 = df[:]\n",
        "\n",
        "# axis=1 for dropping columns\n",
        "df2.drop('Gym', axis=1, inplace=True)\n",
        "\n",
        "print(df2)"
      ],
      "metadata": {
        "id": "3gakU7shGM-e",
        "outputId": "ea48bdf2-0b13-4068-a922-7976d1ecedcb",
        "colab": {
          "base_uri": "https://localhost:8080/"
        }
      },
      "execution_count": null,
      "outputs": [
        {
          "output_type": "stream",
          "name": "stdout",
          "text": [
            "       Math  English  Music  Gym\n",
            "Simon    90       98     85  100\n",
            "Emma     80       89     95   90\n",
            "Mary     70       95    100   90\n",
            "\n",
            "\n",
            "       Math  English  Music\n",
            "Simon    90       98     85\n",
            "Emma     80       89     95\n",
            "Mary     70       95    100\n"
          ]
        },
        {
          "output_type": "stream",
          "name": "stderr",
          "text": [
            "<ipython-input-17-227bb8f723a7>:15: SettingWithCopyWarning: \n",
            "A value is trying to be set on a copy of a slice from a DataFrame\n",
            "\n",
            "See the caveats in the documentation: https://pandas.pydata.org/pandas-docs/stable/user_guide/indexing.html#returning-a-view-versus-a-copy\n",
            "  df2.drop('Gym', axis=1, inplace=True) # axis=1 for dropping columns\n"
          ]
        }
      ]
    },
    {
      "cell_type": "code",
      "source": [
        "import pandas as pd\n",
        "\n",
        "exam_data = {'Math':[90, 80, 70], 'English':[98, 89, 95],\n",
        "             'Music':[85, 95, 100], 'Gym':[100,90,90]}\n",
        "\n",
        "df = pd.DataFrame(exam_data, index = ['Simon', 'Emma', 'Mary'])\n",
        "\n",
        "print(df)\n",
        "print('\\n')\n",
        "\n",
        "df2 = df[:]\n",
        "\n",
        "df2.drop('Gym', axis=1, inplace=True)\n",
        "\n",
        "print(df2)"
      ],
      "metadata": {
        "colab": {
          "base_uri": "https://localhost:8080/"
        },
        "id": "Tq-VeFevi6Sm",
        "outputId": "e1d31862-20b1-41b4-d022-4493e8bfbbe7"
      },
      "execution_count": null,
      "outputs": [
        {
          "output_type": "stream",
          "name": "stdout",
          "text": [
            "       Math  English  Music  Gym\n",
            "Simon    90       98     85  100\n",
            "Emma     80       89     95   90\n",
            "Mary     70       95    100   90\n",
            "\n",
            "\n",
            "       Math  English  Music\n",
            "Simon    90       98     85\n",
            "Emma     80       89     95\n",
            "Mary     70       95    100\n"
          ]
        },
        {
          "output_type": "stream",
          "name": "stderr",
          "text": [
            "<ipython-input-12-35184ce2b5ad>:13: SettingWithCopyWarning: \n",
            "A value is trying to be set on a copy of a slice from a DataFrame\n",
            "\n",
            "See the caveats in the documentation: https://pandas.pydata.org/pandas-docs/stable/user_guide/indexing.html#returning-a-view-versus-a-copy\n",
            "  df2.drop('Gym', axis=1, inplace=True)\n"
          ]
        }
      ]
    },
    {
      "cell_type": "markdown",
      "source": [
        "#<font color = 'red'> **loc[ ], iloc[ ]**\n",
        ">\n",
        "* 인덱스 이름(index name) 기준으로 선택할 때는 loc[] 사용\n",
        "* 정수형 위치(integer position) 인덱스를 사용할 때는 iloc[] 사용\n",
        "\n",
        ">\n",
        "\n",
        "| 구분 | loc[ ] | iloc[ ] |\n",
        "|:|-|-|\n",
        "|탐색대상|인덱스 이름 index label/name| 정수형 위치 인덱스 (integer position)|\n",
        "|범위지정 예시|loc['a':'c'] ➡️ 'a', 'b', 'c'|iloc[3:7] ➡️  3,4,5,6|"
      ],
      "metadata": {
        "id": "DaZaTy2SH_tX"
      }
    },
    {
      "cell_type": "code",
      "source": [
        "#@markdown <font color = 'red'> **🐹 Student Activity 5: Label-based indexing. 'locate' or 'location' for loc ⤵️**\n",
        "\n",
        "#@markdown <font color = 'blue'> **Choose a row 행 선택**\n",
        "\n",
        "#@markdown <font color = 'blue'> **loc[] & iloc[]**\n",
        "\n",
        "import pandas as pd\n",
        "\n",
        "exam_data = {'Math':[90, 80, 70], 'English':[98, 89, 95],\n",
        "             'Music':[85, 95, 100], 'Gym':[100,90,90]}\n",
        "\n",
        "df = pd.DataFrame(exam_data, index = ['Simon', 'Emma', 'Mary'])\n",
        "\n",
        "print(df)\n",
        "print('\\n')\n",
        "\n",
        "\n",
        "#Data display is trasversed when one element is in loc[].\n",
        "label1 = df.loc['Simon']\n",
        "print(label1)\n",
        "print('\\n')\n",
        "\n",
        "#Data display is trasversed when one element is in loc[].\n",
        "position1 = df.iloc[0]\n",
        "print(position1)\n"
      ],
      "metadata": {
        "id": "gyoTZY2KHtuZ",
        "outputId": "12597478-c93d-400d-acd8-115bd98ff8b6",
        "colab": {
          "base_uri": "https://localhost:8080/"
        }
      },
      "execution_count": null,
      "outputs": [
        {
          "output_type": "stream",
          "name": "stdout",
          "text": [
            "       Math  English  Music  Gym\n",
            "Simon    90       98     85  100\n",
            "Emma     80       89     95   90\n",
            "Mary     70       95    100   90\n",
            "\n",
            "\n",
            "Math        90\n",
            "English     98\n",
            "Music       85\n",
            "Gym        100\n",
            "Name: Simon, dtype: int64\n",
            "\n",
            "\n",
            "Math        90\n",
            "English     98\n",
            "Music       85\n",
            "Gym        100\n",
            "Name: Simon, dtype: int64\n"
          ]
        }
      ]
    },
    {
      "cell_type": "code",
      "source": [
        "import pandas as pd\n",
        "\n",
        "exam_data = {'Math':[90, 80, 70], 'English':[98, 89, 95],\n",
        "             'Music':[85, 95, 100], 'Gym':[100,90,90]}\n",
        "\n",
        "df = pd.DataFrame(exam_data, index = ['Simon', 'Emma', 'Mary'])\n",
        "\n",
        "print(df)\n",
        "print('\\n')\n",
        "\n",
        "\n",
        "label1 = df.loc['Simon']\n",
        "print(label1)\n",
        "print('\\n')\n",
        "\n",
        "position1 = df.iloc[0]\n",
        "print(position1)"
      ],
      "metadata": {
        "colab": {
          "base_uri": "https://localhost:8080/"
        },
        "id": "xaCmmIB6i-_-",
        "outputId": "a977dd28-cf43-4907-a1ba-518ab59f2f97"
      },
      "execution_count": null,
      "outputs": [
        {
          "output_type": "stream",
          "name": "stdout",
          "text": [
            "       Math  English  Music  Gym\n",
            "Simon    90       98     85  100\n",
            "Emma     80       89     95   90\n",
            "Mary     70       95    100   90\n",
            "\n",
            "\n",
            "Math        90\n",
            "English     98\n",
            "Music       85\n",
            "Gym        100\n",
            "Name: Simon, dtype: int64\n",
            "\n",
            "\n",
            "Math        90\n",
            "English     98\n",
            "Music       85\n",
            "Gym        100\n",
            "Name: Simon, dtype: int64\n"
          ]
        }
      ]
    },
    {
      "cell_type": "code",
      "source": [
        "#@markdown <font color = 'red'> **🐹 Student Activity 6 ⤵️**\n",
        "\n",
        "#@markdown <font color = 'blue'> **Choose rows 복수행 선택**\n",
        "\n",
        "#@markdown <font color = 'blue'> **loc[[]] & iloc[[]]**\n",
        "\n",
        "import pandas as pd\n",
        "\n",
        "exam_data = {'Math':[90, 80, 70, 85], 'English':[98, 89, 95, 79],\n",
        "             'Music':[85, 95, 100, 100], 'Gym':[100,90,90, 88]}\n",
        "\n",
        "df = pd.DataFrame(exam_data, index = ['Simon', 'Emma', 'Mary', 'Louis'])\n",
        "\n",
        "print(df)\n",
        "print('\\n')\n",
        "\n",
        "#Choose rows 복수행 선택\n",
        "label2 = df.loc[['Simon', 'Mary']]\n",
        "print(label2)\n",
        "print('\\n')\n",
        "\n",
        "#Choose a row, resulting in its corresponding columns trasversed.\n",
        "position1 = df.iloc[0]\n",
        "print(position1)\n",
        "print('\\n')\n",
        "\n",
        "#Choose rows 복수행 선택 (index number 0 & index number 2)\n",
        "position2 = df.iloc[[0,2]]\n",
        "print(position2)\n",
        "print('\\n')\n",
        "\n",
        "#Choose rows 복수행 선택 (index number 0, index number 2, & index number 2)\n",
        "position3 = df.iloc[[0,1,2]]\n",
        "print(position3)\n",
        "print('\\n')"
      ],
      "metadata": {
        "id": "wd4ZkSmkJlLk",
        "outputId": "ad04e667-3cdc-4d86-8c84-de2efc05a568",
        "colab": {
          "base_uri": "https://localhost:8080/"
        }
      },
      "execution_count": null,
      "outputs": [
        {
          "output_type": "stream",
          "name": "stdout",
          "text": [
            "       Math  English  Music  Gym\n",
            "Simon    90       98     85  100\n",
            "Emma     80       89     95   90\n",
            "Mary     70       95    100   90\n",
            "Louis    85       79    100   88\n",
            "\n",
            "\n",
            "       Math  English  Music  Gym\n",
            "Simon    90       98     85  100\n",
            "Mary     70       95    100   90\n",
            "\n",
            "\n",
            "Math        90\n",
            "English     98\n",
            "Music       85\n",
            "Gym        100\n",
            "Name: Simon, dtype: int64\n",
            "\n",
            "\n",
            "       Math  English  Music  Gym\n",
            "Simon    90       98     85  100\n",
            "Mary     70       95    100   90\n",
            "\n",
            "\n",
            "       Math  English  Music  Gym\n",
            "Simon    90       98     85  100\n",
            "Emma     80       89     95   90\n",
            "Mary     70       95    100   90\n",
            "\n",
            "\n"
          ]
        }
      ]
    },
    {
      "cell_type": "code",
      "source": [
        "import pandas as pd\n",
        "\n",
        "exam_data = {'Math':[90, 80, 70, 85], 'English':[98, 89, 95, 79],\n",
        "             'Music':[85, 95, 100, 100], 'Gym':[100,90,90, 88]}\n",
        "\n",
        "df = pd.DataFrame(exam_data, index = ['Simon', 'Emma', 'Mary', 'Louis'])\n",
        "\n",
        "print(df)\n",
        "print('\\n')\n",
        "\n",
        "label2 = df.loc[['Simon', 'Mary']]\n",
        "print(label2)\n",
        "print('\\n')\n",
        "\n",
        "position1 = df.iloc[0]\n",
        "print(position1)\n",
        "print('\\n')\n",
        "\n",
        "position2 = df.iloc[[0,2]]\n",
        "print(position2)\n",
        "print('\\n')\n",
        "\n",
        "position3 = df.iloc[[0,1,2]]\n",
        "print(position3)\n",
        "print('\\n')"
      ],
      "metadata": {
        "colab": {
          "base_uri": "https://localhost:8080/"
        },
        "id": "DJHqq2AqjIWW",
        "outputId": "c718fdb8-b9ee-4b07-a5a6-c3d7d4362172"
      },
      "execution_count": null,
      "outputs": [
        {
          "output_type": "stream",
          "name": "stdout",
          "text": [
            "       Math  English  Music  Gym\n",
            "Simon    90       98     85  100\n",
            "Emma     80       89     95   90\n",
            "Mary     70       95    100   90\n",
            "Louis    85       79    100   88\n",
            "\n",
            "\n",
            "       Math  English  Music  Gym\n",
            "Simon    90       98     85  100\n",
            "Mary     70       95    100   90\n",
            "\n",
            "\n",
            "Math        90\n",
            "English     98\n",
            "Music       85\n",
            "Gym        100\n",
            "Name: Simon, dtype: int64\n",
            "\n",
            "\n",
            "       Math  English  Music  Gym\n",
            "Simon    90       98     85  100\n",
            "Mary     70       95    100   90\n",
            "\n",
            "\n",
            "       Math  English  Music  Gym\n",
            "Simon    90       98     85  100\n",
            "Emma     80       89     95   90\n",
            "Mary     70       95    100   90\n",
            "\n",
            "\n"
          ]
        }
      ]
    },
    {
      "cell_type": "code",
      "source": [
        "#@markdown <font color = 'red'> **🐹 Student Activity 7 ⤵️**\n",
        "\n",
        "#@markdown <font color = 'blue'> **Select rows using the colon symbol 콜른 사용하여 복수행 선택**\n",
        "\n",
        "#@markdown <font color = 'blue'> **loc[[]] & iloc[[]]**\n",
        "\n",
        "import pandas as pd\n",
        "\n",
        "exam_data = {'Math':[90, 80, 70, 85], 'English':[98, 89, 95, 79],\n",
        "             'Music':[85, 95, 100, 100], 'Gym':[100,90,90, 88]}\n",
        "\n",
        "df = pd.DataFrame(exam_data, index = ['Simon', 'Emma', 'Mary', 'Louis'])\n",
        "\n",
        "print(df)\n",
        "print('\\n')\n",
        "\n",
        "label3 = df.loc['Simon':'Emma']\n",
        "print(label3)\n",
        "print('\\n')\n",
        "\n",
        "#The last index number is excluded.\n",
        "location4 = df.iloc[0:2]\n",
        "print(location4)"
      ],
      "metadata": {
        "id": "wgsiKE2pK9To",
        "outputId": "54fbc09f-17f0-4389-d6e2-ca0c22d7e741",
        "colab": {
          "base_uri": "https://localhost:8080/"
        }
      },
      "execution_count": null,
      "outputs": [
        {
          "output_type": "stream",
          "name": "stdout",
          "text": [
            "       Math  English  Music  Gym\n",
            "Simon    90       98     85  100\n",
            "Emma     80       89     95   90\n",
            "Mary     70       95    100   90\n",
            "Louis    85       79    100   88\n",
            "\n",
            "\n",
            "       Math  English  Music  Gym\n",
            "Simon    90       98     85  100\n",
            "Emma     80       89     95   90\n",
            "\n",
            "\n",
            "       Math  English  Music  Gym\n",
            "Simon    90       98     85  100\n",
            "Emma     80       89     95   90\n"
          ]
        }
      ]
    },
    {
      "cell_type": "code",
      "source": [
        "import pandas as pd\n",
        "\n",
        "exam_data = {'Math':[90, 80, 70, 85], 'English':[98, 89, 95, 79],\n",
        "             'Music':[85, 95, 100, 100], 'Gym':[100,90,90, 88]}\n",
        "\n",
        "df = pd.DataFrame(exam_data, index = ['Simon', 'Emma', 'Mary', 'Louis'])\n",
        "\n",
        "print(df)\n",
        "print('\\n')\n",
        "\n",
        "label3 = df.loc['Simon':'Emma']\n",
        "print(label3)\n",
        "print('\\n')\n",
        "\n",
        "location4 = df.iloc[0:2]\n",
        "print(location4)"
      ],
      "metadata": {
        "colab": {
          "base_uri": "https://localhost:8080/"
        },
        "id": "GPlaj6C9jOcD",
        "outputId": "9804e212-4d12-403e-ed84-f2ff5c8f51e6"
      },
      "execution_count": null,
      "outputs": [
        {
          "output_type": "stream",
          "name": "stdout",
          "text": [
            "       Math  English  Music  Gym\n",
            "Simon    90       98     85  100\n",
            "Emma     80       89     95   90\n",
            "Mary     70       95    100   90\n",
            "Louis    85       79    100   88\n",
            "\n",
            "\n",
            "       Math  English  Music  Gym\n",
            "Simon    90       98     85  100\n",
            "Emma     80       89     95   90\n",
            "\n",
            "\n",
            "       Math  English  Music  Gym\n",
            "Simon    90       98     85  100\n",
            "Emma     80       89     95   90\n"
          ]
        }
      ]
    },
    {
      "cell_type": "code",
      "source": [
        "#@markdown <font color = 'red'> **🐹 Student Activity 8 ⤵️**\n",
        "\n",
        "#@markdown <font color = 'blue'> **Select a column 열 선택**\n",
        "\n",
        "#@markdown <font color = 'blue'> **column name[ ]**\n",
        "\n",
        "import pandas as pd\n",
        "\n",
        "exam_data = {'Math':[90, 80, 70, 85], 'English':[98, 89, 95, 79],\n",
        "             'Music':[85, 95, 100, 100], 'Gym':[100,90,90, 88]}\n",
        "\n",
        "df = pd.DataFrame(exam_data, index = ['Simon', 'Emma', 'Mary', 'Louis'])\n",
        "\n",
        "print(df)\n",
        "print('\\n')\n",
        "\n",
        "math1 = df['Math']\n",
        "print(math1)\n",
        "print('\\n')\n",
        "print(type(math1))\n",
        "\n",
        "english1 = df['English']\n",
        "print(english1)\n",
        "print('\\n')\n",
        "print(type(english1))\n",
        "\n",
        "gym1 = df['Gym']\n",
        "print(gym1)\n",
        "print('\\n')\n",
        "print(type(gym1))"
      ],
      "metadata": {
        "id": "1ElBWe4XMLQN",
        "outputId": "536ab4ec-b60e-4097-969b-09aa4209f61b",
        "colab": {
          "base_uri": "https://localhost:8080/"
        }
      },
      "execution_count": null,
      "outputs": [
        {
          "output_type": "stream",
          "name": "stdout",
          "text": [
            "       Math  English  Music  Gym\n",
            "Simon    90       98     85  100\n",
            "Emma     80       89     95   90\n",
            "Mary     70       95    100   90\n",
            "Louis    85       79    100   88\n",
            "\n",
            "\n",
            "Simon    90\n",
            "Emma     80\n",
            "Mary     70\n",
            "Louis    85\n",
            "Name: Math, dtype: int64\n",
            "\n",
            "\n",
            "<class 'pandas.core.series.Series'>\n",
            "Simon    98\n",
            "Emma     89\n",
            "Mary     95\n",
            "Louis    79\n",
            "Name: English, dtype: int64\n",
            "\n",
            "\n",
            "<class 'pandas.core.series.Series'>\n",
            "Simon    100\n",
            "Emma      90\n",
            "Mary      90\n",
            "Louis     88\n",
            "Name: Gym, dtype: int64\n",
            "\n",
            "\n",
            "<class 'pandas.core.series.Series'>\n"
          ]
        }
      ]
    },
    {
      "cell_type": "code",
      "source": [
        "import pandas as pd\n",
        "\n",
        "exam_data = {'Math':[90, 80, 70, 85], 'English':[98, 89, 95, 79],\n",
        "             'Music':[85, 95, 100, 100], 'Gym':[100,90,90, 88]}\n",
        "\n",
        "df = pd.DataFrame(exam_data, index = ['Simon', 'Emma', 'Mary', 'Louis'])\n",
        "\n",
        "print(df)\n",
        "print('\\n')\n",
        "\n",
        "math1 = df['Math']\n",
        "print(math1)\n",
        "print('\\n')\n",
        "print(type(math1))\n",
        "\n",
        "english1 = df['English']\n",
        "print(english1)\n",
        "print('\\n')\n",
        "print(type(english1))\n",
        "\n",
        "gym1 = df['Gym']\n",
        "print(gym1)\n",
        "print('\\n')\n",
        "print(type(gym1))"
      ],
      "metadata": {
        "colab": {
          "base_uri": "https://localhost:8080/"
        },
        "id": "D3nwsrpbjTQu",
        "outputId": "09675752-57fb-4898-a9dc-d141e343f9ff"
      },
      "execution_count": null,
      "outputs": [
        {
          "output_type": "stream",
          "name": "stdout",
          "text": [
            "       Math  English  Music  Gym\n",
            "Simon    90       98     85  100\n",
            "Emma     80       89     95   90\n",
            "Mary     70       95    100   90\n",
            "Louis    85       79    100   88\n",
            "\n",
            "\n",
            "Simon    90\n",
            "Emma     80\n",
            "Mary     70\n",
            "Louis    85\n",
            "Name: Math, dtype: int64\n",
            "\n",
            "\n",
            "<class 'pandas.core.series.Series'>\n",
            "Simon    98\n",
            "Emma     89\n",
            "Mary     95\n",
            "Louis    79\n",
            "Name: English, dtype: int64\n",
            "\n",
            "\n",
            "<class 'pandas.core.series.Series'>\n",
            "Simon    100\n",
            "Emma      90\n",
            "Mary      90\n",
            "Louis     88\n",
            "Name: Gym, dtype: int64\n",
            "\n",
            "\n",
            "<class 'pandas.core.series.Series'>\n"
          ]
        }
      ]
    },
    {
      "cell_type": "code",
      "source": [
        "#@markdown <font color = 'red'> **🐹 Student Activity 8 ⤵️**\n",
        "\n",
        "#@markdown <font color = 'blue'> **Select columns 복수열 선택**\n",
        "\n",
        "#@markdown <font color = 'blue'> **column name[[]]**\n",
        "\n",
        "import pandas as pd\n",
        "\n",
        "exam_data = {'Math':[90, 80, 70, 85], 'English':[98, 89, 95, 79],\n",
        "             'Music':[85, 95, 100, 100], 'Gym':[100,90,90, 88]}\n",
        "\n",
        "df = pd.DataFrame(exam_data, index = ['Simon', 'Emma', 'Mary', 'Louis'])\n",
        "\n",
        "print(df)\n",
        "print('\\n')\n",
        "\n",
        "#💣Remember to use two sets of squared brackets!\n",
        "eng_gym = df[['English','Gym']]\n",
        "print(eng_gym)\n",
        "print('\\n')\n",
        "print(type(eng_gym))\n",
        "\n",
        "#💣Remember to use two sets of squared brackets!\n",
        "three_subj = df[['English','Music','Gym']]\n",
        "print(three_subj)\n",
        "print('\\n')\n",
        "print(type(three_subj))"
      ],
      "metadata": {
        "id": "i6JeRsBhN-H1",
        "outputId": "030c118a-ef4b-48e7-ac0a-83f5047f55b8",
        "colab": {
          "base_uri": "https://localhost:8080/"
        }
      },
      "execution_count": null,
      "outputs": [
        {
          "output_type": "stream",
          "name": "stdout",
          "text": [
            "       Math  English  Music  Gym\n",
            "Simon    90       98     85  100\n",
            "Emma     80       89     95   90\n",
            "Mary     70       95    100   90\n",
            "Louis    85       79    100   88\n",
            "\n",
            "\n",
            "       English  Gym\n",
            "Simon       98  100\n",
            "Emma        89   90\n",
            "Mary        95   90\n",
            "Louis       79   88\n",
            "\n",
            "\n",
            "<class 'pandas.core.frame.DataFrame'>\n",
            "       English  Music  Gym\n",
            "Simon       98     85  100\n",
            "Emma        89     95   90\n",
            "Mary        95    100   90\n",
            "Louis       79    100   88\n",
            "\n",
            "\n",
            "<class 'pandas.core.frame.DataFrame'>\n"
          ]
        }
      ]
    },
    {
      "cell_type": "code",
      "source": [
        "import pandas as pd\n",
        "\n",
        "exam_data = {'Math':[90, 80, 70, 85], 'English':[98, 89, 95, 79],\n",
        "             'Music':[85, 95, 100, 100], 'Gym':[100,90,90, 88]}\n",
        "\n",
        "df = pd.DataFrame(exam_data, index = ['Simon', 'Emma', 'Mary', 'Louis'])\n",
        "\n",
        "print(df)\n",
        "print('\\n')\n",
        "\n",
        "eng_gym = df[['English','Gym']]\n",
        "print(eng_gym)\n",
        "print('\\n')\n",
        "print(type(eng_gym))\n",
        "\n",
        "three_subj = df[['English','Music','Gym']]\n",
        "print(three_subj)\n",
        "print('\\n')\n",
        "print(type(three_subj))"
      ],
      "metadata": {
        "colab": {
          "base_uri": "https://localhost:8080/"
        },
        "id": "4FxT8wIUjV-S",
        "outputId": "4d0824fc-38da-4801-88c5-525460f8899b"
      },
      "execution_count": null,
      "outputs": [
        {
          "output_type": "stream",
          "name": "stdout",
          "text": [
            "       Math  English  Music  Gym\n",
            "Simon    90       98     85  100\n",
            "Emma     80       89     95   90\n",
            "Mary     70       95    100   90\n",
            "Louis    85       79    100   88\n",
            "\n",
            "\n",
            "       English  Gym\n",
            "Simon       98  100\n",
            "Emma        89   90\n",
            "Mary        95   90\n",
            "Louis       79   88\n",
            "\n",
            "\n",
            "<class 'pandas.core.frame.DataFrame'>\n",
            "       English  Music  Gym\n",
            "Simon       98     85  100\n",
            "Emma        89     95   90\n",
            "Mary        95    100   90\n",
            "Louis       79    100   88\n",
            "\n",
            "\n",
            "<class 'pandas.core.frame.DataFrame'>\n"
          ]
        }
      ]
    }
  ]
}