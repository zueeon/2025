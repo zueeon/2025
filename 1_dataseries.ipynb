{
  "nbformat": 4,
  "nbformat_minor": 0,
  "metadata": {
    "colab": {
      "provenance": [],
      "include_colab_link": true
    },
    "kernelspec": {
      "name": "python3",
      "display_name": "Python 3"
    },
    "language_info": {
      "name": "python"
    }
  },
  "cells": [
    {
      "cell_type": "markdown",
      "metadata": {
        "id": "view-in-github",
        "colab_type": "text"
      },
      "source": [
        "<a href=\"https://colab.research.google.com/github/zueeon/2025/blob/main/1_dataseries.ipynb\" target=\"_parent\"><img src=\"https://colab.research.google.com/assets/colab-badge.svg\" alt=\"Open In Colab\"/></a>"
      ]
    },
    {
      "cell_type": "markdown",
      "source": [
        "#### **Before we get into conducting statistics, we will learn basic data analysis using Pandas library.**"
      ],
      "metadata": {
        "id": "FNCjhaewUzn2"
      }
    },
    {
      "cell_type": "markdown",
      "source": [
        "👀 🐾 <font color = 'red'> **Index, Series, Element(원소)**\n",
        "\n",
        "🍀 Using indexes effectively makes it easy to search, sort, select, and combine data.\n",
        "  \n",
        "    인덱스를 잘 활용하면 데이터값의 탐색, 정렬, 선택, 결합 등 데이터 조작을 쉽게 할 수 있다.\n",
        "\n",
        "\n",
        "|Index Name/label 인덱스이름(optional)| i0 | i1 | i2 | i3 | ... | in |\n",
        "|:|-|-|-|-|-|-|\n",
        "|Index Value 데이터값(원소) | V0 | V1 | V2 | V3 | ... | Vn |\n",
        "|Integer position 정수형위치인덱스(default)|0|1|2|3|...|n|\n",
        "\n",
        "<font color = 'blue'>👀 🐾 Exercise**\n",
        "\n",
        "|Index Name/label | a | b | c | d | e | f |\n",
        "|:|-|-|-|-|-|-|\n",
        "|Index Value | 10 | 20 | 30 | 40 | 50 | 60 |\n",
        "|Integer position|0|1|2|3|4|5|\n",
        "\n",
        "\n",
        "\n",
        "Series['c'] ➡️  30\n",
        "\n",
        "Series[\"c\"] ➡️  30\n",
        "\n",
        "Series[2] ➡️  30\n",
        "\n",
        "Series[['d'],['e']] ➡️  40, 50\n",
        "\n",
        "Series[[3,4]] ➡️  40, 50\n",
        "* 여러개의 인덱스를 리스트 형태로 입력할 때에는 대괄호 ([]) 안에 넣기\n",
        "\n",
        "Series['d':'e'] ➡️  40, 50\n",
        "\n",
        "Series[3:5] ➡️  40, 50"
      ],
      "metadata": {
        "id": "HhxjKRzMymn3"
      }
    },
    {
      "cell_type": "code",
      "source": [
        "#@markdown <font color = 'red'> **🐹 Student Activity 1 [list data] ⤵️**\n",
        "!pip install pandas\n",
        "import pandas as pd\n",
        "list_data = ['2025-01-01', 3.14, 'ABC', 100, True]\n",
        "sr = pd.Series(list_data)\n",
        "print(sr)"
      ],
      "metadata": {
        "colab": {
          "base_uri": "https://localhost:8080/"
        },
        "id": "KSy0Rz6byu99",
        "outputId": "29b7bfa2-2ff6-40d0-e700-3a15c2fe4b86"
      },
      "execution_count": null,
      "outputs": [
        {
          "output_type": "stream",
          "name": "stdout",
          "text": [
            "Requirement already satisfied: pandas in /usr/local/lib/python3.11/dist-packages (2.2.2)\n",
            "Requirement already satisfied: numpy>=1.23.2 in /usr/local/lib/python3.11/dist-packages (from pandas) (2.0.2)\n",
            "Requirement already satisfied: python-dateutil>=2.8.2 in /usr/local/lib/python3.11/dist-packages (from pandas) (2.8.2)\n",
            "Requirement already satisfied: pytz>=2020.1 in /usr/local/lib/python3.11/dist-packages (from pandas) (2025.1)\n",
            "Requirement already satisfied: tzdata>=2022.7 in /usr/local/lib/python3.11/dist-packages (from pandas) (2025.1)\n",
            "Requirement already satisfied: six>=1.5 in /usr/local/lib/python3.11/dist-packages (from python-dateutil>=2.8.2->pandas) (1.17.0)\n",
            "0    2025-01-01\n",
            "1          3.14\n",
            "2           ABC\n",
            "3           100\n",
            "4          True\n",
            "dtype: object\n"
          ]
        }
      ]
    },
    {
      "cell_type": "code",
      "source": [
        "!pip install pandas\n",
        "import pandas as pd\n",
        "list_data = ['2025-01-01', 3.14, 'ABC', 100, True]\n",
        "sr = pd.Series(list_data)\n",
        "print(sr)"
      ],
      "metadata": {
        "colab": {
          "base_uri": "https://localhost:8080/"
        },
        "id": "fh-By277hUmU",
        "outputId": "3f8ecab0-a689-445c-eda4-39ef87b88544"
      },
      "execution_count": null,
      "outputs": [
        {
          "output_type": "stream",
          "name": "stdout",
          "text": [
            "Requirement already satisfied: pandas in /usr/local/lib/python3.11/dist-packages (2.2.2)\n",
            "Requirement already satisfied: numpy>=1.23.2 in /usr/local/lib/python3.11/dist-packages (from pandas) (2.0.2)\n",
            "Requirement already satisfied: python-dateutil>=2.8.2 in /usr/local/lib/python3.11/dist-packages (from pandas) (2.9.0.post0)\n",
            "Requirement already satisfied: pytz>=2020.1 in /usr/local/lib/python3.11/dist-packages (from pandas) (2025.2)\n",
            "Requirement already satisfied: tzdata>=2022.7 in /usr/local/lib/python3.11/dist-packages (from pandas) (2025.2)\n",
            "Requirement already satisfied: six>=1.5 in /usr/local/lib/python3.11/dist-packages (from python-dateutil>=2.8.2->pandas) (1.17.0)\n",
            "0    2025-01-01\n",
            "1          3.14\n",
            "2           ABC\n",
            "3           100\n",
            "4          True\n",
            "dtype: object\n"
          ]
        }
      ]
    },
    {
      "cell_type": "markdown",
      "source": [
        "#### **dtype: object**\n",
        "\n",
        "- Pandas에서 dtype: object는 주로 문자열(텍스트) 데이터를 저장할 때 사용\n",
        "- 다양한 데이터 유형(문자, 숫자, 불리언 등)이 혼합된 경우에도 자동 적용\n",
        "- ➡️ 문자열(텍스트) 또는 다양한 데이터 타입을 포함할 수 있는 일반 객체 타입\n",
        "- 예제에서 리스트에 문자열, 숫자, 실수, 불리언 값이 섞여 있어서 object로 지정"
      ],
      "metadata": {
        "id": "JgT9y_0ziFcT"
      }
    },
    {
      "cell_type": "code",
      "execution_count": null,
      "metadata": {
        "colab": {
          "base_uri": "https://localhost:8080/"
        },
        "id": "KdX5zx0yv-eO",
        "outputId": "cff16090-e44e-4462-fd36-f389775a4829"
      },
      "outputs": [
        {
          "output_type": "stream",
          "name": "stdout",
          "text": [
            "a    1\n",
            "b    2\n",
            "c    3\n",
            "dtype: int64\n",
            "\n",
            "\n",
            "<class 'pandas.core.series.Series'>\n"
          ]
        }
      ],
      "source": [
        "#@markdown <font color = 'red'> **🐹 Student Activity 2 {dictionary data} ⤵️**\n",
        "\n",
        "import pandas as pd\n",
        "dict_data = {'a':1, 'b':2, 'c':3}\n",
        "\n",
        "sr = pd.Series(dict_data)\n",
        "\n",
        "print(sr) #시리즈 클래스. 시리즈는 데이터가 순차적으로 나열된 1차원 배열\n",
        "print('\\n')\n",
        "print(type(sr)) #dtype: int64 (정수형)"
      ]
    },
    {
      "cell_type": "code",
      "source": [
        "import pandas as pd\n",
        "dict_data = {'a':1, 'b':2, 'c':3}\n",
        "\n",
        "sr = pd.Series(dict_data)\n",
        "\n",
        "print(sr) #시리즈 클래스. 시리즈는 데이터가 순차적으로 나열된 1차원 배열\n",
        "print('\\n')\n",
        "print(type(sr)) #dtype: int64 (정수형)"
      ],
      "metadata": {
        "colab": {
          "base_uri": "https://localhost:8080/"
        },
        "id": "pD6ypjOFhW-E",
        "outputId": "777bec0e-feb6-4b49-bde2-6b18202c71fc"
      },
      "execution_count": null,
      "outputs": [
        {
          "output_type": "stream",
          "name": "stdout",
          "text": [
            "a    1\n",
            "b    2\n",
            "c    3\n",
            "dtype: int64\n",
            "\n",
            "\n",
            "<class 'pandas.core.series.Series'>\n"
          ]
        }
      ]
    },
    {
      "cell_type": "markdown",
      "source": [
        "🍀 pd.Series() is a class in Pandas, not just a function. It creates a one-dimensional labeled array capable of holding any data type (integers, floats, strings, Python objects, etc.).\n",
        "\n",
        "    Series() is a constructor for creating a Series object (i.e., a one-dimensional labeled array).\n",
        "\n",
        "\n",
        "##<font color = 'red'> **pandas.Series() with two arguments separated by a comma**\n",
        "  * argument1 -> variable name\n",
        "  * argument 2 -> index name\n",
        "\n",
        "   👀 🐾 **list data or tuple data with [Index values separated by a comma]**"
      ],
      "metadata": {
        "id": "7ancN9rwxZgh"
      }
    },
    {
      "cell_type": "code",
      "source": [
        "#@markdown <font color = 'red'> **🐹 Student Activity 3 (tuple data) ⤵️**\n",
        "import pandas as pd\n",
        "tuple_data = ('Emma', '2000.12.25', 'Female', True)\n",
        "sr = pd.Series(tuple_data, index=['Name', 'DOB', 'Gender', 'Student'])\n",
        "print(sr)\n",
        "print('\\n')\n",
        "print(sr[0])\n",
        "print('\\n')\n",
        "print(sr['Name'])"
      ],
      "metadata": {
        "colab": {
          "base_uri": "https://localhost:8080/"
        },
        "id": "lLLBsDAo2ka7",
        "outputId": "b3f2ff47-00e7-48a5-df25-c96cf2674382"
      },
      "execution_count": null,
      "outputs": [
        {
          "output_type": "stream",
          "name": "stdout",
          "text": [
            "Name             Emma\n",
            "DOB        2000.12.25\n",
            "Gender         Female\n",
            "Student          True\n",
            "dtype: object\n",
            "\n",
            "\n",
            "Emma\n",
            "\n",
            "\n",
            "Emma\n"
          ]
        },
        {
          "output_type": "stream",
          "name": "stderr",
          "text": [
            "<ipython-input-14-d79a0f6b323c>:7: FutureWarning: Series.__getitem__ treating keys as positions is deprecated. In a future version, integer keys will always be treated as labels (consistent with DataFrame behavior). To access a value by position, use `ser.iloc[pos]`\n",
            "  print(sr[0])\n"
          ]
        }
      ]
    },
    {
      "cell_type": "code",
      "source": [
        "import pandas as pd\n",
        "tuple_data = ('Emma', '2000.12.25', 'Female', True)\n",
        "sr = pd.Series(tuple_data, index=['Name', 'DOB', 'Gender', 'Student'])\n",
        "print(sr)\n",
        "print('\\n')\n",
        "print(sr[0])\n",
        "print('\\n')\n",
        "print(sr['Name'])"
      ],
      "metadata": {
        "colab": {
          "base_uri": "https://localhost:8080/"
        },
        "id": "It_4jGA1hcuM",
        "outputId": "21256a5c-c4f4-467c-90a7-6ca26ab570f7"
      },
      "execution_count": null,
      "outputs": [
        {
          "output_type": "stream",
          "name": "stdout",
          "text": [
            "Name             Emma\n",
            "DOB        2000.12.25\n",
            "Gender         Female\n",
            "Student          True\n",
            "dtype: object\n",
            "\n",
            "\n",
            "Emma\n",
            "\n",
            "\n",
            "Emma\n"
          ]
        },
        {
          "output_type": "stream",
          "name": "stderr",
          "text": [
            "<ipython-input-3-1a8f1a7c1a45>:6: FutureWarning: Series.__getitem__ treating keys as positions is deprecated. In a future version, integer keys will always be treated as labels (consistent with DataFrame behavior). To access a value by position, use `ser.iloc[pos]`\n",
            "  print(sr[0])\n"
          ]
        }
      ]
    },
    {
      "cell_type": "markdown",
      "source": [
        "👀 🐾 **Print part of list data**\n",
        "* print([]) 대괄호 사용\n",
        "* use additional [ ] for an embedded list"
      ],
      "metadata": {
        "id": "VPENJrgJyeE5"
      }
    },
    {
      "cell_type": "code",
      "source": [
        "#@markdown <font color = 'red'> **🐹 Student Activity 4 ⤵️**\n",
        "\n",
        "#@markdown <font color = 'red'> **Print part of [list data]**\n",
        "\n",
        "import pandas as pd\n",
        "tuple_data = ('Emma', '2000.12.25', 'Female', True)\n",
        "\n",
        " #정수형 위치 인덱스 대신 인덱스 이름을 따로 지정\n",
        "sr = pd.Series(tuple_data, index=['Name', 'DOB', 'Gender', 'Student'])\n",
        "\n",
        "print(sr[[1,2]])\n",
        "print('\\n')\n",
        "print(sr[['DOB','Gender']])"
      ],
      "metadata": {
        "colab": {
          "base_uri": "https://localhost:8080/"
        },
        "id": "_s-Hbotn6Fhr",
        "outputId": "e5f873cc-ee74-4e45-aeea-af4054b51e60"
      },
      "execution_count": null,
      "outputs": [
        {
          "output_type": "stream",
          "name": "stdout",
          "text": [
            "DOB       2000.12.25\n",
            "Gender        Female\n",
            "dtype: object\n",
            "\n",
            "\n",
            "DOB       2000.12.25\n",
            "Gender        Female\n",
            "dtype: object\n"
          ]
        },
        {
          "output_type": "stream",
          "name": "stderr",
          "text": [
            "<ipython-input-15-aa80936a9123>:11: FutureWarning: Series.__getitem__ treating keys as positions is deprecated. In a future version, integer keys will always be treated as labels (consistent with DataFrame behavior). To access a value by position, use `ser.iloc[pos]`\n",
            "  print(sr[[1,2]])\n"
          ]
        }
      ]
    },
    {
      "cell_type": "code",
      "source": [
        "import pandas as pd\n",
        "tuple_data = ('Emma', '2000.12.25', 'Female', True)\n",
        "\n",
        "sr = pd.Series(tuple_data, index=['Name', 'DOB', 'Gender', 'Student'])\n",
        "\n",
        "print(sr[[1,2]])\n",
        "print('\\n')\n",
        "print(sr[['DOB','Gender']])"
      ],
      "metadata": {
        "colab": {
          "base_uri": "https://localhost:8080/"
        },
        "id": "CDz11NWXhe1B",
        "outputId": "9afd76ab-6ebe-49a8-f529-c17323737aa0"
      },
      "execution_count": null,
      "outputs": [
        {
          "output_type": "stream",
          "name": "stdout",
          "text": [
            "DOB       2000.12.25\n",
            "Gender        Female\n",
            "dtype: object\n",
            "\n",
            "\n",
            "DOB       2000.12.25\n",
            "Gender        Female\n",
            "dtype: object\n"
          ]
        },
        {
          "output_type": "stream",
          "name": "stderr",
          "text": [
            "<ipython-input-4-0b28ed19ce93>:6: FutureWarning: Series.__getitem__ treating keys as positions is deprecated. In a future version, integer keys will always be treated as labels (consistent with DataFrame behavior). To access a value by position, use `ser.iloc[pos]`\n",
            "  print(sr[[1,2]])\n"
          ]
        }
      ]
    },
    {
      "cell_type": "markdown",
      "source": [
        "#⚽ ⚽ ⚽ Do it yourself!\n",
        "\n",
        "Q: Write a script to print first element and third element with the same tuple_data above."
      ],
      "metadata": {
        "id": "FmNbIiZUmWfW"
      }
    },
    {
      "cell_type": "code",
      "source": [
        "#@markdown <font color = 'red'> **🐹 Answer ⤴️**\n",
        "\n",
        "import pandas as pd\n",
        "tuple_data = ('Emma', '2000.12.25', 'Female', True)\n",
        "\n",
        " #정수형 위치 인덱스 대신 인덱스 이름을 따로 지정\n",
        "sr = pd.Series(tuple_data, index=['Name', 'DOB', 'Gender', 'Student'])\n",
        "\n",
        "print(sr[[0,2]])\n",
        "print('\\n')\n",
        "print(sr[['Name','Gender']])"
      ],
      "metadata": {
        "colab": {
          "base_uri": "https://localhost:8080/"
        },
        "id": "RVVn59jgm48Z",
        "outputId": "13c3673a-83aa-4613-e246-7359bba367f0"
      },
      "execution_count": null,
      "outputs": [
        {
          "output_type": "stream",
          "name": "stdout",
          "text": [
            "Name        Emma\n",
            "Gender    Female\n",
            "dtype: object\n",
            "\n",
            "\n",
            "Name        Emma\n",
            "Gender    Female\n",
            "dtype: object\n"
          ]
        },
        {
          "output_type": "stream",
          "name": "stderr",
          "text": [
            "<ipython-input-18-159ee421fd73>:9: FutureWarning: Series.__getitem__ treating keys as positions is deprecated. In a future version, integer keys will always be treated as labels (consistent with DataFrame behavior). To access a value by position, use `ser.iloc[pos]`\n",
            "  print(sr[[0,2]])\n"
          ]
        }
      ]
    },
    {
      "cell_type": "code",
      "source": [
        "import pandas as pd\n",
        "tuple_data = ('Emma', '2000.12.25', 'Female', True)\n",
        "\n",
        "sr = pd.Series(tuple_data, index=['Name', 'DOB', 'Gender', 'Student'])\n",
        "\n",
        "print(sr[[0,2]])\n",
        "print('\\n')\n",
        "print(sr[['Name','Gender']])"
      ],
      "metadata": {
        "colab": {
          "base_uri": "https://localhost:8080/"
        },
        "id": "BhpXi3pKhi78",
        "outputId": "2b40735a-f236-492c-9bb9-952ffd6ddbee"
      },
      "execution_count": null,
      "outputs": [
        {
          "output_type": "stream",
          "name": "stdout",
          "text": [
            "Name        Emma\n",
            "Gender    Female\n",
            "dtype: object\n",
            "\n",
            "\n",
            "Name        Emma\n",
            "Gender    Female\n",
            "dtype: object\n"
          ]
        },
        {
          "output_type": "stream",
          "name": "stderr",
          "text": [
            "<ipython-input-5-bbbbbfcbc7fa>:6: FutureWarning: Series.__getitem__ treating keys as positions is deprecated. In a future version, integer keys will always be treated as labels (consistent with DataFrame behavior). To access a value by position, use `ser.iloc[pos]`\n",
            "  print(sr[[0,2]])\n"
          ]
        }
      ]
    }
  ]
}